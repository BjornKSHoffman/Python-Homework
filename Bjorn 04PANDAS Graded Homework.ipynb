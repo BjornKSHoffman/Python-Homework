{
 "cells": [
  {
   "cell_type": "markdown",
   "metadata": {},
   "source": [
    " #  A Whale off the Port(folio)\n",
    "\n",
    " In this assignment, you'll get to use what you've learned this week to evaluate the performance among various algorithmic, hedge, and mutual fund portfolios and compare them against the S&P 500."
   ]
  },
  {
   "cell_type": "code",
   "execution_count": 223,
   "metadata": {},
   "outputs": [],
   "source": [
    "import pandas as pd\n",
    "import numpy as np\n",
    "import datetime as dt\n",
    "from pathlib import Path\n",
    "%matplotlib inline"
   ]
  },
  {
   "cell_type": "markdown",
   "metadata": {},
   "source": [
    "# Data Cleaning\n",
    "\n",
    "In this section, you will need to read the CSV files into DataFrames and perform any necessary data cleaning steps. After cleaning, combine all DataFrames into a single DataFrame.\n",
    "\n",
    "Files:\n",
    "1. whale_returns.csv\n",
    "2. algo_returns.csv\n",
    "3. sp500_history.csv"
   ]
  },
  {
   "cell_type": "markdown",
   "metadata": {},
   "source": [
    "## Whale Returns\n",
    "\n",
    "Read the Whale Portfolio daily returns and clean the data"
   ]
  },
  {
   "cell_type": "code",
   "execution_count": 81,
   "metadata": {},
   "outputs": [
    {
     "data": {
      "text/html": [
       "<div>\n",
       "<style scoped>\n",
       "    .dataframe tbody tr th:only-of-type {\n",
       "        vertical-align: middle;\n",
       "    }\n",
       "\n",
       "    .dataframe tbody tr th {\n",
       "        vertical-align: top;\n",
       "    }\n",
       "\n",
       "    .dataframe thead th {\n",
       "        text-align: right;\n",
       "    }\n",
       "</style>\n",
       "<table border=\"1\" class=\"dataframe\">\n",
       "  <thead>\n",
       "    <tr style=\"text-align: right;\">\n",
       "      <th></th>\n",
       "      <th>Date</th>\n",
       "      <th>SOROS FUND MANAGEMENT LLC</th>\n",
       "      <th>PAULSON &amp; CO.INC.</th>\n",
       "      <th>TIGER GLOBAL MANAGEMENT LLC</th>\n",
       "      <th>BERKSHIRE HATHAWAY INC</th>\n",
       "    </tr>\n",
       "  </thead>\n",
       "  <tbody>\n",
       "    <tr>\n",
       "      <th>0</th>\n",
       "      <td>2015-03-02</td>\n",
       "      <td>NaN</td>\n",
       "      <td>NaN</td>\n",
       "      <td>NaN</td>\n",
       "      <td>NaN</td>\n",
       "    </tr>\n",
       "    <tr>\n",
       "      <th>1</th>\n",
       "      <td>2015-03-03</td>\n",
       "      <td>-0.001266</td>\n",
       "      <td>-0.004981</td>\n",
       "      <td>-0.000496</td>\n",
       "      <td>-0.006569</td>\n",
       "    </tr>\n",
       "    <tr>\n",
       "      <th>2</th>\n",
       "      <td>2015-03-04</td>\n",
       "      <td>0.002230</td>\n",
       "      <td>0.003241</td>\n",
       "      <td>-0.002534</td>\n",
       "      <td>0.004213</td>\n",
       "    </tr>\n",
       "    <tr>\n",
       "      <th>3</th>\n",
       "      <td>2015-03-05</td>\n",
       "      <td>0.004016</td>\n",
       "      <td>0.004076</td>\n",
       "      <td>0.002355</td>\n",
       "      <td>0.006726</td>\n",
       "    </tr>\n",
       "    <tr>\n",
       "      <th>4</th>\n",
       "      <td>2015-03-06</td>\n",
       "      <td>-0.007905</td>\n",
       "      <td>-0.003574</td>\n",
       "      <td>-0.008481</td>\n",
       "      <td>-0.013098</td>\n",
       "    </tr>\n",
       "  </tbody>\n",
       "</table>\n",
       "</div>"
      ],
      "text/plain": [
       "         Date  SOROS FUND MANAGEMENT LLC  PAULSON & CO.INC.   \\\n",
       "0  2015-03-02                        NaN                 NaN   \n",
       "1  2015-03-03                  -0.001266           -0.004981   \n",
       "2  2015-03-04                   0.002230            0.003241   \n",
       "3  2015-03-05                   0.004016            0.004076   \n",
       "4  2015-03-06                  -0.007905           -0.003574   \n",
       "\n",
       "   TIGER GLOBAL MANAGEMENT LLC  BERKSHIRE HATHAWAY INC  \n",
       "0                          NaN                     NaN  \n",
       "1                    -0.000496               -0.006569  \n",
       "2                    -0.002534                0.004213  \n",
       "3                     0.002355                0.006726  \n",
       "4                    -0.008481               -0.013098  "
      ]
     },
     "execution_count": 81,
     "metadata": {},
     "output_type": "execute_result"
    }
   ],
   "source": [
    "# Reading whale returns\n",
    "whale_returns_csv = Path(\"Resources/whale_returns.csv\")\n",
    "# YOUR CODE HERE\n",
    "whale_returns = pd.read_csv(whale_returns_csv)\n",
    "\n",
    "whale_returns.head()\n"
   ]
  },
  {
   "cell_type": "code",
   "execution_count": 82,
   "metadata": {},
   "outputs": [
    {
     "data": {
      "text/plain": [
       "Date                           0\n",
       "SOROS FUND MANAGEMENT LLC      1\n",
       "PAULSON & CO.INC.              1\n",
       "TIGER GLOBAL MANAGEMENT LLC    1\n",
       "BERKSHIRE HATHAWAY INC         1\n",
       "dtype: int64"
      ]
     },
     "execution_count": 82,
     "metadata": {},
     "output_type": "execute_result"
    }
   ],
   "source": [
    "# Count nulls\n",
    "# YOUR CODE HERE\n",
    "whale_returns.isnull().sum()"
   ]
  },
  {
   "cell_type": "code",
   "execution_count": 83,
   "metadata": {},
   "outputs": [
    {
     "data": {
      "text/plain": [
       "Date                           0\n",
       "SOROS FUND MANAGEMENT LLC      0\n",
       "PAULSON & CO.INC.              0\n",
       "TIGER GLOBAL MANAGEMENT LLC    0\n",
       "BERKSHIRE HATHAWAY INC         0\n",
       "dtype: int64"
      ]
     },
     "execution_count": 83,
     "metadata": {},
     "output_type": "execute_result"
    }
   ],
   "source": [
    "# Drop nulls\n",
    "# YOUR CODE HERE\n",
    "whale_returns = whale_returns.dropna()\n",
    "whale_returns.isnull().sum()"
   ]
  },
  {
   "cell_type": "markdown",
   "metadata": {},
   "source": [
    "## Algorithmic Daily Returns\n",
    "\n",
    "Read the algorithmic daily returns and clean the data"
   ]
  },
  {
   "cell_type": "code",
   "execution_count": 84,
   "metadata": {},
   "outputs": [],
   "source": [
    "# Reading algorithmic returns\n",
    "algo_returns_csv = Path(\"Resources/algo_returns.csv\")\n",
    "# YOUR CODE HERE\n",
    "algo_returns = pd.read_csv(algo_returns_csv)"
   ]
  },
  {
   "cell_type": "code",
   "execution_count": 85,
   "metadata": {},
   "outputs": [
    {
     "data": {
      "text/plain": [
       "Date      0\n",
       "Algo 1    0\n",
       "Algo 2    6\n",
       "dtype: int64"
      ]
     },
     "execution_count": 85,
     "metadata": {},
     "output_type": "execute_result"
    }
   ],
   "source": [
    "# Count nulls\n",
    "# YOUR CODE HERE\n",
    "algo_returns.isnull().sum()"
   ]
  },
  {
   "cell_type": "code",
   "execution_count": 86,
   "metadata": {},
   "outputs": [
    {
     "data": {
      "text/plain": [
       "<bound method NDFrame.head of             Date    Algo 1    Algo 2\n",
       "6     2014-06-05  0.004062  0.013285\n",
       "7     2014-06-06  0.001857  0.008284\n",
       "8     2014-06-09 -0.005012  0.005668\n",
       "9     2014-06-10  0.004406 -0.000735\n",
       "10    2014-06-11  0.004760 -0.003761\n",
       "...          ...       ...       ...\n",
       "1236  2019-04-25  0.000682 -0.007247\n",
       "1237  2019-04-26  0.002981  0.005256\n",
       "1238  2019-04-29  0.005208  0.002829\n",
       "1239  2019-04-30 -0.002944 -0.001570\n",
       "1240  2019-05-01  0.000094 -0.007358\n",
       "\n",
       "[1235 rows x 3 columns]>"
      ]
     },
     "execution_count": 86,
     "metadata": {},
     "output_type": "execute_result"
    }
   ],
   "source": [
    "# Drop nulls\n",
    "# YOUR CODE HERE\n",
    "algo_returns = algo_returns.dropna()\n",
    "algo_returns.isnull().sum()\n",
    "algo_returns.head"
   ]
  },
  {
   "cell_type": "markdown",
   "metadata": {},
   "source": [
    "## S&P 500 Returns\n",
    "\n",
    "Read the S&P500 Historic Closing Prices and create a new daily returns DataFrame from the data. "
   ]
  },
  {
   "cell_type": "code",
   "execution_count": 87,
   "metadata": {},
   "outputs": [],
   "source": [
    "# Reading S&P 500 Closing Prices\n",
    "sp500_history_csv = Path(\"Resources/sp500_history.csv\")\n",
    "# YOUR CODE HERE\n",
    "sp500_history = pd.read_csv(sp500_history_csv, index_col='Date', parse_dates=True, infer_datetime_format=True)"
   ]
  },
  {
   "cell_type": "code",
   "execution_count": 88,
   "metadata": {},
   "outputs": [
    {
     "data": {
      "text/plain": [
       "Close    object\n",
       "dtype: object"
      ]
     },
     "execution_count": 88,
     "metadata": {},
     "output_type": "execute_result"
    }
   ],
   "source": [
    "# Check Data Types\n",
    "# YOUR CODE HERE\n",
    "sp500_history.dtypes"
   ]
  },
  {
   "cell_type": "code",
   "execution_count": 89,
   "metadata": {},
   "outputs": [
    {
     "data": {
      "text/html": [
       "<div>\n",
       "<style scoped>\n",
       "    .dataframe tbody tr th:only-of-type {\n",
       "        vertical-align: middle;\n",
       "    }\n",
       "\n",
       "    .dataframe tbody tr th {\n",
       "        vertical-align: top;\n",
       "    }\n",
       "\n",
       "    .dataframe thead th {\n",
       "        text-align: right;\n",
       "    }\n",
       "</style>\n",
       "<table border=\"1\" class=\"dataframe\">\n",
       "  <thead>\n",
       "    <tr style=\"text-align: right;\">\n",
       "      <th></th>\n",
       "      <th>Close</th>\n",
       "    </tr>\n",
       "    <tr>\n",
       "      <th>Date</th>\n",
       "      <th></th>\n",
       "    </tr>\n",
       "  </thead>\n",
       "  <tbody>\n",
       "    <tr>\n",
       "      <th>2019-04-23</th>\n",
       "      <td>2933.68</td>\n",
       "    </tr>\n",
       "    <tr>\n",
       "      <th>2019-04-22</th>\n",
       "      <td>2907.97</td>\n",
       "    </tr>\n",
       "    <tr>\n",
       "      <th>2019-04-18</th>\n",
       "      <td>2905.03</td>\n",
       "    </tr>\n",
       "    <tr>\n",
       "      <th>2019-04-17</th>\n",
       "      <td>2900.45</td>\n",
       "    </tr>\n",
       "    <tr>\n",
       "      <th>2019-04-16</th>\n",
       "      <td>2907.06</td>\n",
       "    </tr>\n",
       "  </tbody>\n",
       "</table>\n",
       "</div>"
      ],
      "text/plain": [
       "              Close\n",
       "Date               \n",
       "2019-04-23  2933.68\n",
       "2019-04-22  2907.97\n",
       "2019-04-18  2905.03\n",
       "2019-04-17  2900.45\n",
       "2019-04-16  2907.06"
      ]
     },
     "execution_count": 89,
     "metadata": {},
     "output_type": "execute_result"
    }
   ],
   "source": [
    "# Fix Data Types\n",
    "# YOUR CODE HERE\n",
    "sp500_history['Close'] = sp500_history['Close'].str.replace('$', '')\n",
    "sp500_history['Close'] = sp500_history['Close'].astype(float)\n",
    "\n",
    "sp500_history.head()"
   ]
  },
  {
   "cell_type": "code",
   "execution_count": 90,
   "metadata": {},
   "outputs": [
    {
     "data": {
      "text/html": [
       "<div>\n",
       "<style scoped>\n",
       "    .dataframe tbody tr th:only-of-type {\n",
       "        vertical-align: middle;\n",
       "    }\n",
       "\n",
       "    .dataframe tbody tr th {\n",
       "        vertical-align: top;\n",
       "    }\n",
       "\n",
       "    .dataframe thead th {\n",
       "        text-align: right;\n",
       "    }\n",
       "</style>\n",
       "<table border=\"1\" class=\"dataframe\">\n",
       "  <thead>\n",
       "    <tr style=\"text-align: right;\">\n",
       "      <th></th>\n",
       "      <th>Close</th>\n",
       "    </tr>\n",
       "    <tr>\n",
       "      <th>Date</th>\n",
       "      <th></th>\n",
       "    </tr>\n",
       "  </thead>\n",
       "  <tbody>\n",
       "    <tr>\n",
       "      <th>2019-04-23</th>\n",
       "      <td>2933.68</td>\n",
       "    </tr>\n",
       "    <tr>\n",
       "      <th>2019-04-22</th>\n",
       "      <td>2907.97</td>\n",
       "    </tr>\n",
       "    <tr>\n",
       "      <th>2019-04-18</th>\n",
       "      <td>2905.03</td>\n",
       "    </tr>\n",
       "    <tr>\n",
       "      <th>2019-04-17</th>\n",
       "      <td>2900.45</td>\n",
       "    </tr>\n",
       "    <tr>\n",
       "      <th>2019-04-16</th>\n",
       "      <td>2907.06</td>\n",
       "    </tr>\n",
       "  </tbody>\n",
       "</table>\n",
       "</div>"
      ],
      "text/plain": [
       "              Close\n",
       "Date               \n",
       "2019-04-23  2933.68\n",
       "2019-04-22  2907.97\n",
       "2019-04-18  2905.03\n",
       "2019-04-17  2900.45\n",
       "2019-04-16  2907.06"
      ]
     },
     "execution_count": 90,
     "metadata": {},
     "output_type": "execute_result"
    }
   ],
   "source": [
    "sp500_history.dtypes\n",
    "sp500_history.head()"
   ]
  },
  {
   "cell_type": "code",
   "execution_count": 91,
   "metadata": {},
   "outputs": [
    {
     "data": {
      "text/html": [
       "<div>\n",
       "<style scoped>\n",
       "    .dataframe tbody tr th:only-of-type {\n",
       "        vertical-align: middle;\n",
       "    }\n",
       "\n",
       "    .dataframe tbody tr th {\n",
       "        vertical-align: top;\n",
       "    }\n",
       "\n",
       "    .dataframe thead th {\n",
       "        text-align: right;\n",
       "    }\n",
       "</style>\n",
       "<table border=\"1\" class=\"dataframe\">\n",
       "  <thead>\n",
       "    <tr style=\"text-align: right;\">\n",
       "      <th></th>\n",
       "      <th>Close</th>\n",
       "    </tr>\n",
       "    <tr>\n",
       "      <th>Date</th>\n",
       "      <th></th>\n",
       "    </tr>\n",
       "  </thead>\n",
       "  <tbody>\n",
       "    <tr>\n",
       "      <th>2019-04-23</th>\n",
       "      <td>NaN</td>\n",
       "    </tr>\n",
       "    <tr>\n",
       "      <th>2019-04-22</th>\n",
       "      <td>-0.008764</td>\n",
       "    </tr>\n",
       "    <tr>\n",
       "      <th>2019-04-18</th>\n",
       "      <td>-0.001011</td>\n",
       "    </tr>\n",
       "    <tr>\n",
       "      <th>2019-04-17</th>\n",
       "      <td>-0.001577</td>\n",
       "    </tr>\n",
       "    <tr>\n",
       "      <th>2019-04-16</th>\n",
       "      <td>0.002279</td>\n",
       "    </tr>\n",
       "  </tbody>\n",
       "</table>\n",
       "</div>"
      ],
      "text/plain": [
       "               Close\n",
       "Date                \n",
       "2019-04-23       NaN\n",
       "2019-04-22 -0.008764\n",
       "2019-04-18 -0.001011\n",
       "2019-04-17 -0.001577\n",
       "2019-04-16  0.002279"
      ]
     },
     "execution_count": 91,
     "metadata": {},
     "output_type": "execute_result"
    }
   ],
   "source": [
    "# Calculate Daily Returns\n",
    "# YOUR CODE HERE\n",
    "sp500_returns = sp500_history.pct_change()\n",
    "sp500_returns.head()"
   ]
  },
  {
   "cell_type": "code",
   "execution_count": 92,
   "metadata": {},
   "outputs": [
    {
     "data": {
      "text/html": [
       "<div>\n",
       "<style scoped>\n",
       "    .dataframe tbody tr th:only-of-type {\n",
       "        vertical-align: middle;\n",
       "    }\n",
       "\n",
       "    .dataframe tbody tr th {\n",
       "        vertical-align: top;\n",
       "    }\n",
       "\n",
       "    .dataframe thead th {\n",
       "        text-align: right;\n",
       "    }\n",
       "</style>\n",
       "<table border=\"1\" class=\"dataframe\">\n",
       "  <thead>\n",
       "    <tr style=\"text-align: right;\">\n",
       "      <th></th>\n",
       "      <th>Close</th>\n",
       "    </tr>\n",
       "    <tr>\n",
       "      <th>Date</th>\n",
       "      <th></th>\n",
       "    </tr>\n",
       "  </thead>\n",
       "  <tbody>\n",
       "    <tr>\n",
       "      <th>2019-04-22</th>\n",
       "      <td>-0.008764</td>\n",
       "    </tr>\n",
       "    <tr>\n",
       "      <th>2019-04-18</th>\n",
       "      <td>-0.001011</td>\n",
       "    </tr>\n",
       "    <tr>\n",
       "      <th>2019-04-17</th>\n",
       "      <td>-0.001577</td>\n",
       "    </tr>\n",
       "    <tr>\n",
       "      <th>2019-04-16</th>\n",
       "      <td>0.002279</td>\n",
       "    </tr>\n",
       "    <tr>\n",
       "      <th>2019-04-15</th>\n",
       "      <td>-0.000509</td>\n",
       "    </tr>\n",
       "  </tbody>\n",
       "</table>\n",
       "</div>"
      ],
      "text/plain": [
       "               Close\n",
       "Date                \n",
       "2019-04-22 -0.008764\n",
       "2019-04-18 -0.001011\n",
       "2019-04-17 -0.001577\n",
       "2019-04-16  0.002279\n",
       "2019-04-15 -0.000509"
      ]
     },
     "execution_count": 92,
     "metadata": {},
     "output_type": "execute_result"
    }
   ],
   "source": [
    "# Drop nulls\n",
    "# YOUR CODE HERE\n",
    "sp500_returns = sp500_returns.dropna()\n",
    "sp500_returns.head()"
   ]
  },
  {
   "cell_type": "code",
   "execution_count": 93,
   "metadata": {},
   "outputs": [
    {
     "data": {
      "text/html": [
       "<div>\n",
       "<style scoped>\n",
       "    .dataframe tbody tr th:only-of-type {\n",
       "        vertical-align: middle;\n",
       "    }\n",
       "\n",
       "    .dataframe tbody tr th {\n",
       "        vertical-align: top;\n",
       "    }\n",
       "\n",
       "    .dataframe thead th {\n",
       "        text-align: right;\n",
       "    }\n",
       "</style>\n",
       "<table border=\"1\" class=\"dataframe\">\n",
       "  <thead>\n",
       "    <tr style=\"text-align: right;\">\n",
       "      <th></th>\n",
       "      <th>S&amp;P 500</th>\n",
       "    </tr>\n",
       "    <tr>\n",
       "      <th>Date</th>\n",
       "      <th></th>\n",
       "    </tr>\n",
       "  </thead>\n",
       "  <tbody>\n",
       "    <tr>\n",
       "      <th>2019-04-22</th>\n",
       "      <td>-0.008764</td>\n",
       "    </tr>\n",
       "    <tr>\n",
       "      <th>2019-04-18</th>\n",
       "      <td>-0.001011</td>\n",
       "    </tr>\n",
       "    <tr>\n",
       "      <th>2019-04-17</th>\n",
       "      <td>-0.001577</td>\n",
       "    </tr>\n",
       "    <tr>\n",
       "      <th>2019-04-16</th>\n",
       "      <td>0.002279</td>\n",
       "    </tr>\n",
       "    <tr>\n",
       "      <th>2019-04-15</th>\n",
       "      <td>-0.000509</td>\n",
       "    </tr>\n",
       "  </tbody>\n",
       "</table>\n",
       "</div>"
      ],
      "text/plain": [
       "             S&P 500\n",
       "Date                \n",
       "2019-04-22 -0.008764\n",
       "2019-04-18 -0.001011\n",
       "2019-04-17 -0.001577\n",
       "2019-04-16  0.002279\n",
       "2019-04-15 -0.000509"
      ]
     },
     "execution_count": 93,
     "metadata": {},
     "output_type": "execute_result"
    }
   ],
   "source": [
    "# Rename Column\n",
    "# YOUR CODE HERE\n",
    "sp500_returns = sp500_returns.rename(columns={'Close':\"S&P 500\"})\n",
    "sp500_returns.head()"
   ]
  },
  {
   "cell_type": "markdown",
   "metadata": {},
   "source": [
    "## Combine Whale, Algorithmic, and S&P 500 Returns"
   ]
  },
  {
   "cell_type": "code",
   "execution_count": 94,
   "metadata": {},
   "outputs": [
    {
     "data": {
      "text/html": [
       "<div>\n",
       "<style scoped>\n",
       "    .dataframe tbody tr th:only-of-type {\n",
       "        vertical-align: middle;\n",
       "    }\n",
       "\n",
       "    .dataframe tbody tr th {\n",
       "        vertical-align: top;\n",
       "    }\n",
       "\n",
       "    .dataframe thead th {\n",
       "        text-align: right;\n",
       "    }\n",
       "</style>\n",
       "<table border=\"1\" class=\"dataframe\">\n",
       "  <thead>\n",
       "    <tr style=\"text-align: right;\">\n",
       "      <th></th>\n",
       "      <th>SOROS FUND MANAGEMENT LLC</th>\n",
       "      <th>PAULSON &amp; CO.INC.</th>\n",
       "      <th>TIGER GLOBAL MANAGEMENT LLC</th>\n",
       "      <th>BERKSHIRE HATHAWAY INC</th>\n",
       "      <th>Algo 1</th>\n",
       "      <th>Algo 2</th>\n",
       "      <th>S&amp;P 500</th>\n",
       "    </tr>\n",
       "    <tr>\n",
       "      <th>Date</th>\n",
       "      <th></th>\n",
       "      <th></th>\n",
       "      <th></th>\n",
       "      <th></th>\n",
       "      <th></th>\n",
       "      <th></th>\n",
       "      <th></th>\n",
       "    </tr>\n",
       "  </thead>\n",
       "  <tbody>\n",
       "    <tr>\n",
       "      <th>2015-03-02</th>\n",
       "      <td>NaN</td>\n",
       "      <td>NaN</td>\n",
       "      <td>NaN</td>\n",
       "      <td>NaN</td>\n",
       "      <td>-0.008158</td>\n",
       "      <td>0.003200</td>\n",
       "      <td>0.004559</td>\n",
       "    </tr>\n",
       "    <tr>\n",
       "      <th>2015-03-03</th>\n",
       "      <td>-0.001266</td>\n",
       "      <td>-0.004981</td>\n",
       "      <td>-0.000496</td>\n",
       "      <td>-0.006569</td>\n",
       "      <td>-0.001942</td>\n",
       "      <td>-0.000949</td>\n",
       "      <td>0.004408</td>\n",
       "    </tr>\n",
       "    <tr>\n",
       "      <th>2015-03-04</th>\n",
       "      <td>0.002230</td>\n",
       "      <td>0.003241</td>\n",
       "      <td>-0.002534</td>\n",
       "      <td>0.004213</td>\n",
       "      <td>-0.008589</td>\n",
       "      <td>0.002416</td>\n",
       "      <td>-0.001195</td>\n",
       "    </tr>\n",
       "    <tr>\n",
       "      <th>2015-03-05</th>\n",
       "      <td>0.004016</td>\n",
       "      <td>0.004076</td>\n",
       "      <td>0.002355</td>\n",
       "      <td>0.006726</td>\n",
       "      <td>-0.000955</td>\n",
       "      <td>0.004323</td>\n",
       "      <td>0.014378</td>\n",
       "    </tr>\n",
       "    <tr>\n",
       "      <th>2015-03-06</th>\n",
       "      <td>-0.007905</td>\n",
       "      <td>-0.003574</td>\n",
       "      <td>-0.008481</td>\n",
       "      <td>-0.013098</td>\n",
       "      <td>-0.004957</td>\n",
       "      <td>-0.011460</td>\n",
       "      <td>-0.003929</td>\n",
       "    </tr>\n",
       "    <tr>\n",
       "      <th>...</th>\n",
       "      <td>...</td>\n",
       "      <td>...</td>\n",
       "      <td>...</td>\n",
       "      <td>...</td>\n",
       "      <td>...</td>\n",
       "      <td>...</td>\n",
       "      <td>...</td>\n",
       "    </tr>\n",
       "    <tr>\n",
       "      <th>2017-07-11</th>\n",
       "      <td>0.001230</td>\n",
       "      <td>0.002412</td>\n",
       "      <td>0.009061</td>\n",
       "      <td>0.008142</td>\n",
       "      <td>0.001447</td>\n",
       "      <td>-0.000231</td>\n",
       "      <td>-0.007253</td>\n",
       "    </tr>\n",
       "    <tr>\n",
       "      <th>2017-07-12</th>\n",
       "      <td>0.008579</td>\n",
       "      <td>0.009610</td>\n",
       "      <td>0.010821</td>\n",
       "      <td>0.013334</td>\n",
       "      <td>0.000013</td>\n",
       "      <td>0.009602</td>\n",
       "      <td>-0.001871</td>\n",
       "    </tr>\n",
       "    <tr>\n",
       "      <th>2017-07-13</th>\n",
       "      <td>0.001202</td>\n",
       "      <td>0.003304</td>\n",
       "      <td>0.002360</td>\n",
       "      <td>0.001474</td>\n",
       "      <td>0.002725</td>\n",
       "      <td>0.004021</td>\n",
       "      <td>-0.004652</td>\n",
       "    </tr>\n",
       "    <tr>\n",
       "      <th>2017-07-14</th>\n",
       "      <td>0.002351</td>\n",
       "      <td>0.000880</td>\n",
       "      <td>0.008114</td>\n",
       "      <td>0.010521</td>\n",
       "      <td>-0.004232</td>\n",
       "      <td>0.004311</td>\n",
       "      <td>0.000053</td>\n",
       "    </tr>\n",
       "    <tr>\n",
       "      <th>2017-07-17</th>\n",
       "      <td>-0.000964</td>\n",
       "      <td>0.000682</td>\n",
       "      <td>-0.000457</td>\n",
       "      <td>-0.004509</td>\n",
       "      <td>-0.001968</td>\n",
       "      <td>0.002968</td>\n",
       "      <td>-0.000597</td>\n",
       "    </tr>\n",
       "  </tbody>\n",
       "</table>\n",
       "<p>600 rows × 7 columns</p>\n",
       "</div>"
      ],
      "text/plain": [
       "            SOROS FUND MANAGEMENT LLC  PAULSON & CO.INC.   \\\n",
       "Date                                                        \n",
       "2015-03-02                        NaN                 NaN   \n",
       "2015-03-03                  -0.001266           -0.004981   \n",
       "2015-03-04                   0.002230            0.003241   \n",
       "2015-03-05                   0.004016            0.004076   \n",
       "2015-03-06                  -0.007905           -0.003574   \n",
       "...                               ...                 ...   \n",
       "2017-07-11                   0.001230            0.002412   \n",
       "2017-07-12                   0.008579            0.009610   \n",
       "2017-07-13                   0.001202            0.003304   \n",
       "2017-07-14                   0.002351            0.000880   \n",
       "2017-07-17                  -0.000964            0.000682   \n",
       "\n",
       "            TIGER GLOBAL MANAGEMENT LLC  BERKSHIRE HATHAWAY INC    Algo 1  \\\n",
       "Date                                                                        \n",
       "2015-03-02                          NaN                     NaN -0.008158   \n",
       "2015-03-03                    -0.000496               -0.006569 -0.001942   \n",
       "2015-03-04                    -0.002534                0.004213 -0.008589   \n",
       "2015-03-05                     0.002355                0.006726 -0.000955   \n",
       "2015-03-06                    -0.008481               -0.013098 -0.004957   \n",
       "...                                 ...                     ...       ...   \n",
       "2017-07-11                     0.009061                0.008142  0.001447   \n",
       "2017-07-12                     0.010821                0.013334  0.000013   \n",
       "2017-07-13                     0.002360                0.001474  0.002725   \n",
       "2017-07-14                     0.008114                0.010521 -0.004232   \n",
       "2017-07-17                    -0.000457               -0.004509 -0.001968   \n",
       "\n",
       "              Algo 2   S&P 500  \n",
       "Date                            \n",
       "2015-03-02  0.003200  0.004559  \n",
       "2015-03-03 -0.000949  0.004408  \n",
       "2015-03-04  0.002416 -0.001195  \n",
       "2015-03-05  0.004323  0.014378  \n",
       "2015-03-06 -0.011460 -0.003929  \n",
       "...              ...       ...  \n",
       "2017-07-11 -0.000231 -0.007253  \n",
       "2017-07-12  0.009602 -0.001871  \n",
       "2017-07-13  0.004021 -0.004652  \n",
       "2017-07-14  0.004311  0.000053  \n",
       "2017-07-17  0.002968 -0.000597  \n",
       "\n",
       "[600 rows x 7 columns]"
      ]
     },
     "execution_count": 94,
     "metadata": {},
     "output_type": "execute_result"
    }
   ],
   "source": [
    "# Concatenate all DataFrames into a single DataFrame\n",
    "# YOUR CODE HERE\n",
    "whale_returns = pd.read_csv(whale_returns_csv, index_col='Date', parse_dates=True, infer_datetime_format=True)\n",
    "algo_returns = pd.read_csv(algo_returns_csv, index_col='Date', parse_dates=True, infer_datetime_format=True)\n",
    "combined_portfolio = pd.concat([whale_returns, algo_returns, sp500_returns], axis = \"columns\", join = \"inner\")\n",
    "combined_portfolio.head(600)"
   ]
  },
  {
   "cell_type": "markdown",
   "metadata": {},
   "source": [
    "---"
   ]
  },
  {
   "cell_type": "markdown",
   "metadata": {},
   "source": [
    "# Portfolio Analysis\n",
    "\n",
    "In this section, you will calculate and visualize performance and risk metrics for the portfolios."
   ]
  },
  {
   "cell_type": "markdown",
   "metadata": {},
   "source": [
    "## Performance\n",
    "\n",
    "Calculate and Plot the daily returns and cumulative returns. Does any portfolio outperform the S&P 500? "
   ]
  },
  {
   "cell_type": "code",
   "execution_count": 96,
   "metadata": {},
   "outputs": [
    {
     "data": {
      "text/plain": [
       "<matplotlib.axes._subplots.AxesSubplot at 0x28567421a00>"
      ]
     },
     "execution_count": 96,
     "metadata": {},
     "output_type": "execute_result"
    },
    {
     "data": {
      "image/png": "[encoded data removed]",
      "text/plain": [
       "<Figure size 432x288 with 1 Axes>"
      ]
     },
     "metadata": {
      "needs_background": "light"
     },
     "output_type": "display_data"
    }
   ],
   "source": [
    "# Plot daily returns\n",
    "# YOUR CODE HERE\n",
    "combined_portfolio_returns = combined_portfolio.pct_change()\n",
    "combined_portfolio_returns.plot()"
   ]
  },
  {
   "cell_type": "code",
   "execution_count": 112,
   "metadata": {},
   "outputs": [
    {
     "data": {
      "text/plain": [
       "<matplotlib.axes._subplots.AxesSubplot at 0x1c31b937d60>"
      ]
     },
     "execution_count": 112,
     "metadata": {},
     "output_type": "execute_result"
    },
    {
     "data": {
      "image/png": "[encoded data removed]",
      "text/plain": [
       "<Figure size 432x288 with 1 Axes>"
      ]
     },
     "metadata": {
      "needs_background": "light"
     },
     "output_type": "display_data"
    }
   ],
   "source": [
    "# Plot cumulative returns\n",
    "# YOUR CODE HERE\n",
    "cumulative_combined_portfolio_returns = (1 + combined_portfolio_returns).cumprod() - 1\n",
    "cumulative_combined_portfolio_returns.head()\n",
    "cumulative_combined_portfolio_returns.plot(kind = 'line')"
   ]
  },
  {
   "cell_type": "markdown",
   "metadata": {},
   "source": [
    "## Risk\n",
    "\n",
    "Determine the _risk_ of each portfolio:\n",
    "\n",
    "1. Create a box plot for each portfolio. \n",
    "2. Calculate the standard deviation for all portfolios\n",
    "4. Determine which portfolios are riskier than the S&P 500\n",
    "5. Calculate the Annualized Standard Deviation"
   ]
  },
  {
   "cell_type": "code",
   "execution_count": 120,
   "metadata": {},
   "outputs": [
    {
     "data": {
      "text/plain": [
       "<matplotlib.axes._subplots.AxesSubplot at 0x1c31cd6efd0>"
      ]
     },
     "execution_count": 120,
     "metadata": {},
     "output_type": "execute_result"
    },
    {
     "data": {
      "image/png": "[encoded data removed]",
      "text/plain": [
       "<Figure size 432x288 with 1 Axes>"
      ]
     },
     "metadata": {
      "needs_background": "light"
     },
     "output_type": "display_data"
    }
   ],
   "source": [
    "# Box plot to visually show risk\n",
    "# YOUR CODE HERE\n",
    "cumulative_combined_portfolio_returns.plot(kind = 'box')\n"
   ]
  },
  {
   "cell_type": "code",
   "execution_count": 119,
   "metadata": {},
   "outputs": [
    {
     "name": "stdout",
     "output_type": "stream",
     "text": [
      "SOROS FUND MANAGEMENT LLC       4.099790\n",
      "PAULSON & CO.INC.               0.848403\n",
      "TIGER GLOBAL MANAGEMENT LLC    11.525704\n",
      "BERKSHIRE HATHAWAY INC          1.006416\n",
      "Algo 1                          0.933960\n",
      "Algo 2                          2.605380\n",
      "S&P 500                         1.980972\n",
      "dtype: float64\n"
     ]
    }
   ],
   "source": [
    "# Daily Standard Deviations\n",
    "# Calculate the standard deviation for each portfolio. \n",
    "# Which portfolios are riskier than the S&P 500?\n",
    "# YOUR CODE HERE\n",
    "Standard_Deviation = np.std(cumulative_combined_portfolio_returns)\n",
    "print(Standard_Deviation)\n"
   ]
  },
  {
   "cell_type": "code",
   "execution_count": 122,
   "metadata": {},
   "outputs": [],
   "source": [
    "# Determine which portfolios are riskier than the S&P 500\n",
    "# YOUR CODE HERE\n",
    "#???\n",
    "#####SOROS, TIGER and Algo 2 are riskier than S+P 500 ####"
   ]
  },
  {
   "cell_type": "code",
   "execution_count": 121,
   "metadata": {},
   "outputs": [
    {
     "name": "stdout",
     "output_type": "stream",
     "text": [
      "SOROS FUND MANAGEMENT LLC       64.823006\n",
      "PAULSON & CO.INC.               13.414352\n",
      "TIGER GLOBAL MANAGEMENT LLC    182.236356\n",
      "BERKSHIRE HATHAWAY INC          15.912751\n",
      "Algo 1                          14.767129\n",
      "Algo 2                          41.194439\n",
      "S&P 500                         31.321744\n",
      "dtype: float64\n"
     ]
    }
   ],
   "source": [
    "# Calculate the annualized standard deviation (252 trading days)\n",
    "# YOUR CODE HERE\n",
    "#The annualized standard deviation of daily returns is calculated as follows: Annualized Standard Deviation = Standard Deviation of Daily Returns * Square Root (250) Here, we assumed that there were 250 trading days in the year.\n",
    "Annualized_Standard_Deviation = np.std(cumulative_combined_portfolio_returns)*15.8113\n",
    "print(Annualized_Standard_Deviation)"
   ]
  },
  {
   "cell_type": "markdown",
   "metadata": {},
   "source": [
    "---"
   ]
  },
  {
   "cell_type": "markdown",
   "metadata": {},
   "source": [
    "## Rolling Statistics\n",
    "\n",
    "Risk changes over time. Analyze the rolling statistics for Risk and Beta. \n",
    "\n",
    "1. Plot the rolling standard deviation of the various portfolios along with the rolling standard deviation of the S&P 500 (consider a 21 day window). Does the risk increase for each of the portfolios at the same time risk increases in the S&P?\n",
    "2. Construct a correlation table for the algorithmic, whale, and S&P 500 returns. Which returns most closely mimic the S&P?\n",
    "3. Choose one portfolio and plot a rolling beta between that portfolio's returns and S&P 500 returns. Does the portfolio seem sensitive to movements in the S&P 500?\n",
    "4. An alternative way to calculate a rolling window is to take the exponentially weighted moving average. This is like a moving window average, but it assigns greater importance to more recent observations. Try calculating the ewm with a 21 day half-life."
   ]
  },
  {
   "cell_type": "code",
   "execution_count": 123,
   "metadata": {},
   "outputs": [
    {
     "data": {
      "text/plain": [
       "<matplotlib.axes._subplots.AxesSubplot at 0x1c31ce3e760>"
      ]
     },
     "execution_count": 123,
     "metadata": {},
     "output_type": "execute_result"
    },
    {
     "data": {
      "image/png": "[encoded data removed]",
      "text/plain": [
       "<Figure size 432x288 with 1 Axes>"
      ]
     },
     "metadata": {
      "needs_background": "light"
     },
     "output_type": "display_data"
    }
   ],
   "source": [
    "# Calculate and plot the rolling standard deviation for\n",
    "# the S&P 500 and whale portfolios using a 21 trading day window\n",
    "# YOUR CODE HERE\n",
    "cumulative_combined_portfolio_returns.rolling(window=21).std().plot()"
   ]
  },
  {
   "cell_type": "code",
   "execution_count": 127,
   "metadata": {},
   "outputs": [
    {
     "data": {
      "text/html": [
       "<div>\n",
       "<style scoped>\n",
       "    .dataframe tbody tr th:only-of-type {\n",
       "        vertical-align: middle;\n",
       "    }\n",
       "\n",
       "    .dataframe tbody tr th {\n",
       "        vertical-align: top;\n",
       "    }\n",
       "\n",
       "    .dataframe thead th {\n",
       "        text-align: right;\n",
       "    }\n",
       "</style>\n",
       "<table border=\"1\" class=\"dataframe\">\n",
       "  <thead>\n",
       "    <tr style=\"text-align: right;\">\n",
       "      <th></th>\n",
       "      <th>SOROS FUND MANAGEMENT LLC</th>\n",
       "      <th>PAULSON &amp; CO.INC.</th>\n",
       "      <th>TIGER GLOBAL MANAGEMENT LLC</th>\n",
       "      <th>BERKSHIRE HATHAWAY INC</th>\n",
       "      <th>Algo 1</th>\n",
       "      <th>Algo 2</th>\n",
       "      <th>S&amp;P 500</th>\n",
       "    </tr>\n",
       "  </thead>\n",
       "  <tbody>\n",
       "    <tr>\n",
       "      <th>SOROS FUND MANAGEMENT LLC</th>\n",
       "      <td>1.000000</td>\n",
       "      <td>0.736194</td>\n",
       "      <td>0.851043</td>\n",
       "      <td>0.837398</td>\n",
       "      <td>0.260186</td>\n",
       "      <td>-0.793469</td>\n",
       "      <td>-0.062358</td>\n",
       "    </tr>\n",
       "    <tr>\n",
       "      <th>PAULSON &amp; CO.INC.</th>\n",
       "      <td>0.736194</td>\n",
       "      <td>1.000000</td>\n",
       "      <td>0.733922</td>\n",
       "      <td>0.701082</td>\n",
       "      <td>0.088972</td>\n",
       "      <td>-0.725440</td>\n",
       "      <td>-0.013208</td>\n",
       "    </tr>\n",
       "    <tr>\n",
       "      <th>TIGER GLOBAL MANAGEMENT LLC</th>\n",
       "      <td>0.851043</td>\n",
       "      <td>0.733922</td>\n",
       "      <td>1.000000</td>\n",
       "      <td>0.802951</td>\n",
       "      <td>0.182693</td>\n",
       "      <td>-0.873316</td>\n",
       "      <td>-0.238080</td>\n",
       "    </tr>\n",
       "    <tr>\n",
       "      <th>BERKSHIRE HATHAWAY INC</th>\n",
       "      <td>0.837398</td>\n",
       "      <td>0.701082</td>\n",
       "      <td>0.802951</td>\n",
       "      <td>1.000000</td>\n",
       "      <td>0.182066</td>\n",
       "      <td>-0.825354</td>\n",
       "      <td>-0.080481</td>\n",
       "    </tr>\n",
       "    <tr>\n",
       "      <th>Algo 1</th>\n",
       "      <td>0.260186</td>\n",
       "      <td>0.088972</td>\n",
       "      <td>0.182693</td>\n",
       "      <td>0.182066</td>\n",
       "      <td>1.000000</td>\n",
       "      <td>-0.287852</td>\n",
       "      <td>0.017753</td>\n",
       "    </tr>\n",
       "    <tr>\n",
       "      <th>Algo 2</th>\n",
       "      <td>-0.793469</td>\n",
       "      <td>-0.725440</td>\n",
       "      <td>-0.873316</td>\n",
       "      <td>-0.825354</td>\n",
       "      <td>-0.287852</td>\n",
       "      <td>1.000000</td>\n",
       "      <td>0.000744</td>\n",
       "    </tr>\n",
       "    <tr>\n",
       "      <th>S&amp;P 500</th>\n",
       "      <td>-0.062358</td>\n",
       "      <td>-0.013208</td>\n",
       "      <td>-0.238080</td>\n",
       "      <td>-0.080481</td>\n",
       "      <td>0.017753</td>\n",
       "      <td>0.000744</td>\n",
       "      <td>1.000000</td>\n",
       "    </tr>\n",
       "  </tbody>\n",
       "</table>\n",
       "</div>"
      ],
      "text/plain": [
       "                             SOROS FUND MANAGEMENT LLC  PAULSON & CO.INC.   \\\n",
       "SOROS FUND MANAGEMENT LLC                     1.000000            0.736194   \n",
       "PAULSON & CO.INC.                             0.736194            1.000000   \n",
       "TIGER GLOBAL MANAGEMENT LLC                   0.851043            0.733922   \n",
       "BERKSHIRE HATHAWAY INC                        0.837398            0.701082   \n",
       "Algo 1                                        0.260186            0.088972   \n",
       "Algo 2                                       -0.793469           -0.725440   \n",
       "S&P 500                                      -0.062358           -0.013208   \n",
       "\n",
       "                             TIGER GLOBAL MANAGEMENT LLC  \\\n",
       "SOROS FUND MANAGEMENT LLC                       0.851043   \n",
       "PAULSON & CO.INC.                               0.733922   \n",
       "TIGER GLOBAL MANAGEMENT LLC                     1.000000   \n",
       "BERKSHIRE HATHAWAY INC                          0.802951   \n",
       "Algo 1                                          0.182693   \n",
       "Algo 2                                         -0.873316   \n",
       "S&P 500                                        -0.238080   \n",
       "\n",
       "                             BERKSHIRE HATHAWAY INC    Algo 1    Algo 2  \\\n",
       "SOROS FUND MANAGEMENT LLC                  0.837398  0.260186 -0.793469   \n",
       "PAULSON & CO.INC.                          0.701082  0.088972 -0.725440   \n",
       "TIGER GLOBAL MANAGEMENT LLC                0.802951  0.182693 -0.873316   \n",
       "BERKSHIRE HATHAWAY INC                     1.000000  0.182066 -0.825354   \n",
       "Algo 1                                     0.182066  1.000000 -0.287852   \n",
       "Algo 2                                    -0.825354 -0.287852  1.000000   \n",
       "S&P 500                                   -0.080481  0.017753  0.000744   \n",
       "\n",
       "                              S&P 500  \n",
       "SOROS FUND MANAGEMENT LLC   -0.062358  \n",
       "PAULSON & CO.INC.           -0.013208  \n",
       "TIGER GLOBAL MANAGEMENT LLC -0.238080  \n",
       "BERKSHIRE HATHAWAY INC      -0.080481  \n",
       "Algo 1                       0.017753  \n",
       "Algo 2                       0.000744  \n",
       "S&P 500                      1.000000  "
      ]
     },
     "execution_count": 127,
     "metadata": {},
     "output_type": "execute_result"
    }
   ],
   "source": [
    "# Construct a correlation table\n",
    "# YOUR CODE HERE\n",
    "price_correlation = cumulative_combined_portfolio_returns.corr()\n",
    "price_correlation"
   ]
  },
  {
   "cell_type": "code",
   "execution_count": 130,
   "metadata": {},
   "outputs": [
    {
     "data": {
      "text/plain": [
       "-0.432232411098077"
      ]
     },
     "execution_count": 130,
     "metadata": {},
     "output_type": "execute_result"
    }
   ],
   "source": [
    "# Calculate Beta for a single portfolio compared to the total market (S&P 500)\n",
    "# (Your graph may differ, dependent upon which portfolio you are comparing)\n",
    "# YOUR CODE HERE\n",
    "cumulative_combined_portfolio_returns\n",
    "\n",
    "covariance = cumulative_combined_portfolio_returns['SOROS FUND MANAGEMENT LLC'].cov(cumulative_combined_portfolio_returns['S&P 500'])\n",
    "covariance"
   ]
  },
  {
   "cell_type": "code",
   "execution_count": 131,
   "metadata": {},
   "outputs": [
    {
     "data": {
      "text/plain": [
       "17.15130235464962"
      ]
     },
     "execution_count": 131,
     "metadata": {},
     "output_type": "execute_result"
    }
   ],
   "source": [
    "variance = cumulative_combined_portfolio_returns['SOROS FUND MANAGEMENT LLC'].var()\n",
    "variance"
   ]
  },
  {
   "cell_type": "code",
   "execution_count": 132,
   "metadata": {},
   "outputs": [
    {
     "name": "stdout",
     "output_type": "stream",
     "text": [
      "-0.025201142289984834\n"
     ]
    }
   ],
   "source": [
    "soros_beta = covariance / variance\n",
    "print(soros_beta)"
   ]
  },
  {
   "cell_type": "code",
   "execution_count": 138,
   "metadata": {},
   "outputs": [
    {
     "data": {
      "text/plain": [
       "<matplotlib.axes._subplots.AxesSubplot at 0x1c31cee2490>"
      ]
     },
     "execution_count": 138,
     "metadata": {},
     "output_type": "execute_result"
    },
    {
     "data": {
      "image/png": "[encoded data removed]",
      "text/plain": [
       "<Figure size 432x288 with 1 Axes>"
      ]
     },
     "metadata": {
      "needs_background": "light"
     },
     "output_type": "display_data"
    }
   ],
   "source": [
    "# Calculate a rolling window using the exponentially weighted moving average. \n",
    "# YOUR CODE HERE\n",
    "# Im using a smoothing factor of 0.1\n",
    "moving_average = cumulative_combined_portfolio_returns.ewm(alpha=0.1, adjust=False).mean()\n",
    "moving_average.plot()"
   ]
  },
  {
   "cell_type": "markdown",
   "metadata": {},
   "source": [
    "---"
   ]
  },
  {
   "cell_type": "markdown",
   "metadata": {},
   "source": [
    "## Sharpe Ratios\n",
    "In reality, investment managers and thier institutional investors look at the ratio of return-to-risk, and not just returns alone. (After all, if you could invest in one of two portfolios, each offered the same 10% return, yet one offered lower risk, you'd take that one, right?)\n",
    "\n",
    "1. Using the daily returns, calculate and visualize the Sharpe ratios using a bar plot.\n",
    "2. Determine whether the algorithmic strategies outperform both the market (S&P 500) and the whales portfolios."
   ]
  },
  {
   "cell_type": "code",
   "execution_count": 140,
   "metadata": {},
   "outputs": [
    {
     "data": {
      "text/plain": [
       "SOROS FUND MANAGEMENT LLC     -0.365425\n",
       "PAULSON & CO.INC.             -1.350564\n",
       "TIGER GLOBAL MANAGEMENT LLC   -0.150481\n",
       "BERKSHIRE HATHAWAY INC        -1.042616\n",
       "Algo 1                        -1.156471\n",
       "Algo 2                        -0.353127\n",
       "S&P 500                       -0.517132\n",
       "dtype: float64"
      ]
     },
     "execution_count": 140,
     "metadata": {},
     "output_type": "execute_result"
    }
   ],
   "source": [
    "# Calculate annualized Sharpe Ratios\n",
    "# YOUR CODE HERE\n",
    "Sharpe_Ratio = cumulative_combined_portfolio_returns.mean() / cumulative_combined_portfolio_returns.std()\n",
    "Sharpe_Ratio"
   ]
  },
  {
   "cell_type": "code",
   "execution_count": 141,
   "metadata": {},
   "outputs": [
    {
     "data": {
      "text/plain": [
       "<matplotlib.axes._subplots.AxesSubplot at 0x1c31d5fae80>"
      ]
     },
     "execution_count": 141,
     "metadata": {},
     "output_type": "execute_result"
    },
    {
     "data": {
      "image/png": "[encoded data removed]",
      "text/plain": [
       "<Figure size 432x288 with 1 Axes>"
      ]
     },
     "metadata": {
      "needs_background": "light"
     },
     "output_type": "display_data"
    }
   ],
   "source": [
    "# Visualize the sharpe ratios as a bar plot\n",
    "# YOUR CODE HERE\n",
    "Sharpe_Ratio.plot(kind = 'bar')"
   ]
  },
  {
   "cell_type": "markdown",
   "metadata": {},
   "source": [
    "On the basis of this performance metric, do our algo strategies outperform both 'the market' and the whales? Type your answer here:"
   ]
  },
  {
   "cell_type": "markdown",
   "metadata": {},
   "source": [
    "---"
   ]
  },
  {
   "cell_type": "code",
   "execution_count": null,
   "metadata": {},
   "outputs": [],
   "source": [
    "# No, one Algo has a lower sharpe ration than the S+P 500 but the other does not. -Bjorn!"
   ]
  },
  {
   "cell_type": "markdown",
   "metadata": {},
   "source": [
    "# Portfolio Returns\n",
    "\n",
    "In this section, you will build your own portfolio of stocks, calculate the returns, and compare the results to the Whale Portfolios and the S&P 500. \n",
    "\n",
    "1. Visit [Google Sheets](https://docs.google.com/spreadsheets/) and use the in-built Google Finance function to choose 3-5 stocks for your own portfolio.\n",
    "2. Download the data as CSV files and calculate the portfolio returns.\n",
    "3. Calculate the returns for each stock.\n",
    "4. Using those returns, calculate the weighted returns for your entire portfolio assuming an equal number of shares for each stock.\n",
    "5. Add your portfolio returns to the DataFrame with the other portfolios and rerun the analysis. How does your portfolio fair?\n",
    "\n",
    "\n",
    "## Your analysis should include the following:\n",
    "\n",
    "- Using all portfolios:\n",
    " - The annualized standard deviation (252 trading days) for all portfolios.\n",
    " - The plotted rolling standard deviation using a 21 trading day window for all portfolios.\n",
    " - The calculated annualized Sharpe Ratios and the accompanying bar plot visualization.\n",
    " - A correlation table.\n",
    "- Using your custom portfolio and one other of your choosing:\n",
    " - The plotted beta. "
   ]
  },
  {
   "cell_type": "markdown",
   "metadata": {},
   "source": [
    "## Choose 3-5 custom stocks with at last 1 year's worth of historic prices and create a DataFrame of the closing prices and dates for each stock."
   ]
  },
  {
   "cell_type": "code",
   "execution_count": 125,
   "metadata": {},
   "outputs": [
    {
     "data": {
      "text/html": [
       "<div>\n",
       "<style scoped>\n",
       "    .dataframe tbody tr th:only-of-type {\n",
       "        vertical-align: middle;\n",
       "    }\n",
       "\n",
       "    .dataframe tbody tr th {\n",
       "        vertical-align: top;\n",
       "    }\n",
       "\n",
       "    .dataframe thead th {\n",
       "        text-align: right;\n",
       "    }\n",
       "</style>\n",
       "<table border=\"1\" class=\"dataframe\">\n",
       "  <thead>\n",
       "    <tr style=\"text-align: right;\">\n",
       "      <th></th>\n",
       "      <th>Date</th>\n",
       "      <th>Reliance</th>\n",
       "    </tr>\n",
       "  </thead>\n",
       "  <tbody>\n",
       "    <tr>\n",
       "      <th>0</th>\n",
       "      <td>6/4/2018 15:30:00</td>\n",
       "      <td>924.6</td>\n",
       "    </tr>\n",
       "    <tr>\n",
       "      <th>1</th>\n",
       "      <td>6/5/2018 15:30:00</td>\n",
       "      <td>933.91</td>\n",
       "    </tr>\n",
       "    <tr>\n",
       "      <th>2</th>\n",
       "      <td>6/6/2018 15:30:00</td>\n",
       "      <td>938.07</td>\n",
       "    </tr>\n",
       "    <tr>\n",
       "      <th>3</th>\n",
       "      <td>6/7/2018 15:30:00</td>\n",
       "      <td>945.9</td>\n",
       "    </tr>\n",
       "    <tr>\n",
       "      <th>4</th>\n",
       "      <td>6/8/2018 15:30:00</td>\n",
       "      <td>957.24</td>\n",
       "    </tr>\n",
       "  </tbody>\n",
       "</table>\n",
       "</div>"
      ],
      "text/plain": [
       "                Date Reliance\n",
       "0  6/4/2018 15:30:00    924.6\n",
       "1  6/5/2018 15:30:00   933.91\n",
       "2  6/6/2018 15:30:00   938.07\n",
       "3  6/7/2018 15:30:00    945.9\n",
       "4  6/8/2018 15:30:00   957.24"
      ]
     },
     "execution_count": 125,
     "metadata": {},
     "output_type": "execute_result"
    }
   ],
   "source": [
    "# Read the first stock\n",
    "# YOUR CODE HERE\n",
    "Reliance_csv = Path(\"Resources/Reliance.csv\")\n",
    "Reliance = pd.read_csv(Reliance_csv, dtype = object)\n",
    "Reliance = Reliance.rename(columns={'Open':\"Reliance\"})\n",
    "Reliance.head()"
   ]
  },
  {
   "cell_type": "code",
   "execution_count": 116,
   "metadata": {},
   "outputs": [
    {
     "data": {
      "text/plain": [
       "Date        object\n",
       "Reliance    object\n",
       "dtype: object"
      ]
     },
     "execution_count": 116,
     "metadata": {},
     "output_type": "execute_result"
    }
   ],
   "source": [
    "Reliance.dtypes"
   ]
  },
  {
   "cell_type": "code",
   "execution_count": 126,
   "metadata": {},
   "outputs": [
    {
     "data": {
      "text/html": [
       "<div>\n",
       "<style scoped>\n",
       "    .dataframe tbody tr th:only-of-type {\n",
       "        vertical-align: middle;\n",
       "    }\n",
       "\n",
       "    .dataframe tbody tr th {\n",
       "        vertical-align: top;\n",
       "    }\n",
       "\n",
       "    .dataframe thead th {\n",
       "        text-align: right;\n",
       "    }\n",
       "</style>\n",
       "<table border=\"1\" class=\"dataframe\">\n",
       "  <thead>\n",
       "    <tr style=\"text-align: right;\">\n",
       "      <th></th>\n",
       "      <th>Date</th>\n",
       "      <th>Reliance</th>\n",
       "    </tr>\n",
       "  </thead>\n",
       "  <tbody>\n",
       "    <tr>\n",
       "      <th>0</th>\n",
       "      <td>6/4/2018</td>\n",
       "      <td>924.6</td>\n",
       "    </tr>\n",
       "    <tr>\n",
       "      <th>1</th>\n",
       "      <td>6/5/2018</td>\n",
       "      <td>933.91</td>\n",
       "    </tr>\n",
       "    <tr>\n",
       "      <th>2</th>\n",
       "      <td>6/6/2018</td>\n",
       "      <td>938.07</td>\n",
       "    </tr>\n",
       "    <tr>\n",
       "      <th>3</th>\n",
       "      <td>6/7/2018</td>\n",
       "      <td>945.9</td>\n",
       "    </tr>\n",
       "    <tr>\n",
       "      <th>4</th>\n",
       "      <td>6/8/2018</td>\n",
       "      <td>957.24</td>\n",
       "    </tr>\n",
       "  </tbody>\n",
       "</table>\n",
       "</div>"
      ],
      "text/plain": [
       "        Date Reliance\n",
       "0  6/4/2018     924.6\n",
       "1  6/5/2018    933.91\n",
       "2  6/6/2018    938.07\n",
       "3  6/7/2018     945.9\n",
       "4  6/8/2018    957.24"
      ]
     },
     "execution_count": 126,
     "metadata": {},
     "output_type": "execute_result"
    }
   ],
   "source": [
    "Reliance['Date'] = Reliance['Date'].str.replace('15:30:00', '') #THIS IS IMPORTANT TO CONCAT> SEE BELOW\n",
    "Reliance.head()"
   ]
  },
  {
   "cell_type": "code",
   "execution_count": 141,
   "metadata": {},
   "outputs": [
    {
     "data": {
      "text/html": [
       "<div>\n",
       "<style scoped>\n",
       "    .dataframe tbody tr th:only-of-type {\n",
       "        vertical-align: middle;\n",
       "    }\n",
       "\n",
       "    .dataframe tbody tr th {\n",
       "        vertical-align: top;\n",
       "    }\n",
       "\n",
       "    .dataframe thead th {\n",
       "        text-align: right;\n",
       "    }\n",
       "</style>\n",
       "<table border=\"1\" class=\"dataframe\">\n",
       "  <thead>\n",
       "    <tr style=\"text-align: right;\">\n",
       "      <th></th>\n",
       "      <th>Reliance</th>\n",
       "    </tr>\n",
       "    <tr>\n",
       "      <th>Date</th>\n",
       "      <th></th>\n",
       "    </tr>\n",
       "  </thead>\n",
       "  <tbody>\n",
       "    <tr>\n",
       "      <th>6/4/2018</th>\n",
       "      <td>924.6</td>\n",
       "    </tr>\n",
       "    <tr>\n",
       "      <th>6/5/2018</th>\n",
       "      <td>933.91</td>\n",
       "    </tr>\n",
       "    <tr>\n",
       "      <th>6/6/2018</th>\n",
       "      <td>938.07</td>\n",
       "    </tr>\n",
       "    <tr>\n",
       "      <th>6/7/2018</th>\n",
       "      <td>945.9</td>\n",
       "    </tr>\n",
       "    <tr>\n",
       "      <th>6/8/2018</th>\n",
       "      <td>957.24</td>\n",
       "    </tr>\n",
       "  </tbody>\n",
       "</table>\n",
       "</div>"
      ],
      "text/plain": [
       "          Reliance\n",
       "Date              \n",
       "6/4/2018     924.6\n",
       "6/5/2018    933.91\n",
       "6/6/2018    938.07\n",
       "6/7/2018     945.9\n",
       "6/8/2018    957.24"
      ]
     },
     "execution_count": 141,
     "metadata": {},
     "output_type": "execute_result"
    }
   ],
   "source": [
    "Reliance.set_index('Date', inplace=True)\n",
    "Reliance.head()"
   ]
  },
  {
   "cell_type": "code",
   "execution_count": 132,
   "metadata": {},
   "outputs": [
    {
     "data": {
      "text/html": [
       "<div>\n",
       "<style scoped>\n",
       "    .dataframe tbody tr th:only-of-type {\n",
       "        vertical-align: middle;\n",
       "    }\n",
       "\n",
       "    .dataframe tbody tr th {\n",
       "        vertical-align: top;\n",
       "    }\n",
       "\n",
       "    .dataframe thead th {\n",
       "        text-align: right;\n",
       "    }\n",
       "</style>\n",
       "<table border=\"1\" class=\"dataframe\">\n",
       "  <thead>\n",
       "    <tr style=\"text-align: right;\">\n",
       "      <th></th>\n",
       "      <th>Date</th>\n",
       "      <th>Alphabet</th>\n",
       "    </tr>\n",
       "  </thead>\n",
       "  <tbody>\n",
       "    <tr>\n",
       "      <th>0</th>\n",
       "      <td>6/1/2018 16:00:00</td>\n",
       "      <td>1099.35</td>\n",
       "    </tr>\n",
       "    <tr>\n",
       "      <th>1</th>\n",
       "      <td>6/4/2018 16:00:00</td>\n",
       "      <td>1122.33</td>\n",
       "    </tr>\n",
       "    <tr>\n",
       "      <th>2</th>\n",
       "      <td>6/5/2018 16:00:00</td>\n",
       "      <td>1140.99</td>\n",
       "    </tr>\n",
       "    <tr>\n",
       "      <th>3</th>\n",
       "      <td>6/6/2018 16:00:00</td>\n",
       "      <td>1142.17</td>\n",
       "    </tr>\n",
       "    <tr>\n",
       "      <th>4</th>\n",
       "      <td>6/7/2018 16:00:00</td>\n",
       "      <td>1131.32</td>\n",
       "    </tr>\n",
       "  </tbody>\n",
       "</table>\n",
       "</div>"
      ],
      "text/plain": [
       "                Date  Alphabet\n",
       "0  6/1/2018 16:00:00   1099.35\n",
       "1  6/4/2018 16:00:00   1122.33\n",
       "2  6/5/2018 16:00:00   1140.99\n",
       "3  6/6/2018 16:00:00   1142.17\n",
       "4  6/7/2018 16:00:00   1131.32"
      ]
     },
     "execution_count": 132,
     "metadata": {},
     "output_type": "execute_result"
    }
   ],
   "source": [
    "# Read the second stock\n",
    "# YOUR CODE HERE\n",
    "Alphabet_csv = Path(\"Resources/Alphabet.csv\")\n",
    "Alphabet = pd.read_csv(Alphabet_csv, parse_dates=True, infer_datetime_format=True)\n",
    "Alphabet = Alphabet.rename(columns={'Open':\"Alphabet\"})\n",
    "Alphabet.head()"
   ]
  },
  {
   "cell_type": "code",
   "execution_count": 135,
   "metadata": {},
   "outputs": [
    {
     "data": {
      "text/html": [
       "<div>\n",
       "<style scoped>\n",
       "    .dataframe tbody tr th:only-of-type {\n",
       "        vertical-align: middle;\n",
       "    }\n",
       "\n",
       "    .dataframe tbody tr th {\n",
       "        vertical-align: top;\n",
       "    }\n",
       "\n",
       "    .dataframe thead th {\n",
       "        text-align: right;\n",
       "    }\n",
       "</style>\n",
       "<table border=\"1\" class=\"dataframe\">\n",
       "  <thead>\n",
       "    <tr style=\"text-align: right;\">\n",
       "      <th></th>\n",
       "      <th>Date</th>\n",
       "      <th>Alphabet</th>\n",
       "    </tr>\n",
       "  </thead>\n",
       "  <tbody>\n",
       "    <tr>\n",
       "      <th>0</th>\n",
       "      <td>6/1/2018</td>\n",
       "      <td>1099.35</td>\n",
       "    </tr>\n",
       "    <tr>\n",
       "      <th>1</th>\n",
       "      <td>6/4/2018</td>\n",
       "      <td>1122.33</td>\n",
       "    </tr>\n",
       "    <tr>\n",
       "      <th>2</th>\n",
       "      <td>6/5/2018</td>\n",
       "      <td>1140.99</td>\n",
       "    </tr>\n",
       "    <tr>\n",
       "      <th>3</th>\n",
       "      <td>6/6/2018</td>\n",
       "      <td>1142.17</td>\n",
       "    </tr>\n",
       "    <tr>\n",
       "      <th>4</th>\n",
       "      <td>6/7/2018</td>\n",
       "      <td>1131.32</td>\n",
       "    </tr>\n",
       "  </tbody>\n",
       "</table>\n",
       "</div>"
      ],
      "text/plain": [
       "        Date  Alphabet\n",
       "0  6/1/2018    1099.35\n",
       "1  6/4/2018    1122.33\n",
       "2  6/5/2018    1140.99\n",
       "3  6/6/2018    1142.17\n",
       "4  6/7/2018    1131.32"
      ]
     },
     "execution_count": 135,
     "metadata": {},
     "output_type": "execute_result"
    }
   ],
   "source": [
    "Alphabet['Date'] = Alphabet['Date'].str.replace('16:00:00', '') #THIS IS IMPORTANT TO CONCAT> SEE BELOW\n",
    "Alphabet.head()"
   ]
  },
  {
   "cell_type": "code",
   "execution_count": 142,
   "metadata": {},
   "outputs": [
    {
     "data": {
      "text/html": [
       "<div>\n",
       "<style scoped>\n",
       "    .dataframe tbody tr th:only-of-type {\n",
       "        vertical-align: middle;\n",
       "    }\n",
       "\n",
       "    .dataframe tbody tr th {\n",
       "        vertical-align: top;\n",
       "    }\n",
       "\n",
       "    .dataframe thead th {\n",
       "        text-align: right;\n",
       "    }\n",
       "</style>\n",
       "<table border=\"1\" class=\"dataframe\">\n",
       "  <thead>\n",
       "    <tr style=\"text-align: right;\">\n",
       "      <th></th>\n",
       "      <th>Alphabet</th>\n",
       "    </tr>\n",
       "    <tr>\n",
       "      <th>Date</th>\n",
       "      <th></th>\n",
       "    </tr>\n",
       "  </thead>\n",
       "  <tbody>\n",
       "    <tr>\n",
       "      <th>6/1/2018</th>\n",
       "      <td>1099.35</td>\n",
       "    </tr>\n",
       "    <tr>\n",
       "      <th>6/4/2018</th>\n",
       "      <td>1122.33</td>\n",
       "    </tr>\n",
       "    <tr>\n",
       "      <th>6/5/2018</th>\n",
       "      <td>1140.99</td>\n",
       "    </tr>\n",
       "    <tr>\n",
       "      <th>6/6/2018</th>\n",
       "      <td>1142.17</td>\n",
       "    </tr>\n",
       "    <tr>\n",
       "      <th>6/7/2018</th>\n",
       "      <td>1131.32</td>\n",
       "    </tr>\n",
       "  </tbody>\n",
       "</table>\n",
       "</div>"
      ],
      "text/plain": [
       "           Alphabet\n",
       "Date               \n",
       "6/1/2018    1099.35\n",
       "6/4/2018    1122.33\n",
       "6/5/2018    1140.99\n",
       "6/6/2018    1142.17\n",
       "6/7/2018    1131.32"
      ]
     },
     "execution_count": 142,
     "metadata": {},
     "output_type": "execute_result"
    }
   ],
   "source": [
    "Alphabet.set_index('Date', inplace=True)\n",
    "Alphabet.head()"
   ]
  },
  {
   "cell_type": "code",
   "execution_count": 136,
   "metadata": {},
   "outputs": [
    {
     "data": {
      "text/html": [
       "<div>\n",
       "<style scoped>\n",
       "    .dataframe tbody tr th:only-of-type {\n",
       "        vertical-align: middle;\n",
       "    }\n",
       "\n",
       "    .dataframe tbody tr th {\n",
       "        vertical-align: top;\n",
       "    }\n",
       "\n",
       "    .dataframe thead th {\n",
       "        text-align: right;\n",
       "    }\n",
       "</style>\n",
       "<table border=\"1\" class=\"dataframe\">\n",
       "  <thead>\n",
       "    <tr style=\"text-align: right;\">\n",
       "      <th></th>\n",
       "      <th>Date</th>\n",
       "      <th>HewlettPackard</th>\n",
       "    </tr>\n",
       "  </thead>\n",
       "  <tbody>\n",
       "    <tr>\n",
       "      <th>0</th>\n",
       "      <td>6/1/2018 16:00:00</td>\n",
       "      <td>15.33</td>\n",
       "    </tr>\n",
       "    <tr>\n",
       "      <th>1</th>\n",
       "      <td>6/4/2018 16:00:00</td>\n",
       "      <td>15.50</td>\n",
       "    </tr>\n",
       "    <tr>\n",
       "      <th>2</th>\n",
       "      <td>6/5/2018 16:00:00</td>\n",
       "      <td>15.50</td>\n",
       "    </tr>\n",
       "    <tr>\n",
       "      <th>3</th>\n",
       "      <td>6/6/2018 16:00:00</td>\n",
       "      <td>16.11</td>\n",
       "    </tr>\n",
       "    <tr>\n",
       "      <th>4</th>\n",
       "      <td>6/7/2018 16:00:00</td>\n",
       "      <td>15.98</td>\n",
       "    </tr>\n",
       "  </tbody>\n",
       "</table>\n",
       "</div>"
      ],
      "text/plain": [
       "                Date  HewlettPackard\n",
       "0  6/1/2018 16:00:00           15.33\n",
       "1  6/4/2018 16:00:00           15.50\n",
       "2  6/5/2018 16:00:00           15.50\n",
       "3  6/6/2018 16:00:00           16.11\n",
       "4  6/7/2018 16:00:00           15.98"
      ]
     },
     "execution_count": 136,
     "metadata": {},
     "output_type": "execute_result"
    }
   ],
   "source": [
    "# Read the third stock\n",
    "# YOUR CODE HERE\n",
    "HewlettPackard_csv = Path(\"Resources/HewlettPackard.csv\")\n",
    "HewlettPackard = pd.read_csv(HewlettPackard_csv, parse_dates=True, infer_datetime_format=True)\n",
    "HewlettPackard = HewlettPackard.rename(columns={'Open':\"HewlettPackard\"})\n",
    "HewlettPackard.head()"
   ]
  },
  {
   "cell_type": "code",
   "execution_count": 137,
   "metadata": {},
   "outputs": [
    {
     "data": {
      "text/html": [
       "<div>\n",
       "<style scoped>\n",
       "    .dataframe tbody tr th:only-of-type {\n",
       "        vertical-align: middle;\n",
       "    }\n",
       "\n",
       "    .dataframe tbody tr th {\n",
       "        vertical-align: top;\n",
       "    }\n",
       "\n",
       "    .dataframe thead th {\n",
       "        text-align: right;\n",
       "    }\n",
       "</style>\n",
       "<table border=\"1\" class=\"dataframe\">\n",
       "  <thead>\n",
       "    <tr style=\"text-align: right;\">\n",
       "      <th></th>\n",
       "      <th>Date</th>\n",
       "      <th>HewlettPackard</th>\n",
       "    </tr>\n",
       "  </thead>\n",
       "  <tbody>\n",
       "    <tr>\n",
       "      <th>0</th>\n",
       "      <td>6/1/2018</td>\n",
       "      <td>15.33</td>\n",
       "    </tr>\n",
       "    <tr>\n",
       "      <th>1</th>\n",
       "      <td>6/4/2018</td>\n",
       "      <td>15.50</td>\n",
       "    </tr>\n",
       "    <tr>\n",
       "      <th>2</th>\n",
       "      <td>6/5/2018</td>\n",
       "      <td>15.50</td>\n",
       "    </tr>\n",
       "    <tr>\n",
       "      <th>3</th>\n",
       "      <td>6/6/2018</td>\n",
       "      <td>16.11</td>\n",
       "    </tr>\n",
       "    <tr>\n",
       "      <th>4</th>\n",
       "      <td>6/7/2018</td>\n",
       "      <td>15.98</td>\n",
       "    </tr>\n",
       "  </tbody>\n",
       "</table>\n",
       "</div>"
      ],
      "text/plain": [
       "        Date  HewlettPackard\n",
       "0  6/1/2018            15.33\n",
       "1  6/4/2018            15.50\n",
       "2  6/5/2018            15.50\n",
       "3  6/6/2018            16.11\n",
       "4  6/7/2018            15.98"
      ]
     },
     "execution_count": 137,
     "metadata": {},
     "output_type": "execute_result"
    }
   ],
   "source": [
    "HewlettPackard['Date'] = HewlettPackard['Date'].str.replace('16:00:00', '') #THIS IS IMPORTANT TO CONCAT> SEE BELOW\n",
    "HewlettPackard.head()"
   ]
  },
  {
   "cell_type": "code",
   "execution_count": 143,
   "metadata": {},
   "outputs": [
    {
     "data": {
      "text/html": [
       "<div>\n",
       "<style scoped>\n",
       "    .dataframe tbody tr th:only-of-type {\n",
       "        vertical-align: middle;\n",
       "    }\n",
       "\n",
       "    .dataframe tbody tr th {\n",
       "        vertical-align: top;\n",
       "    }\n",
       "\n",
       "    .dataframe thead th {\n",
       "        text-align: right;\n",
       "    }\n",
       "</style>\n",
       "<table border=\"1\" class=\"dataframe\">\n",
       "  <thead>\n",
       "    <tr style=\"text-align: right;\">\n",
       "      <th></th>\n",
       "      <th>HewlettPackard</th>\n",
       "    </tr>\n",
       "    <tr>\n",
       "      <th>Date</th>\n",
       "      <th></th>\n",
       "    </tr>\n",
       "  </thead>\n",
       "  <tbody>\n",
       "    <tr>\n",
       "      <th>6/1/2018</th>\n",
       "      <td>15.33</td>\n",
       "    </tr>\n",
       "    <tr>\n",
       "      <th>6/4/2018</th>\n",
       "      <td>15.50</td>\n",
       "    </tr>\n",
       "    <tr>\n",
       "      <th>6/5/2018</th>\n",
       "      <td>15.50</td>\n",
       "    </tr>\n",
       "    <tr>\n",
       "      <th>6/6/2018</th>\n",
       "      <td>16.11</td>\n",
       "    </tr>\n",
       "    <tr>\n",
       "      <th>6/7/2018</th>\n",
       "      <td>15.98</td>\n",
       "    </tr>\n",
       "  </tbody>\n",
       "</table>\n",
       "</div>"
      ],
      "text/plain": [
       "           HewlettPackard\n",
       "Date                     \n",
       "6/1/2018            15.33\n",
       "6/4/2018            15.50\n",
       "6/5/2018            15.50\n",
       "6/6/2018            16.11\n",
       "6/7/2018            15.98"
      ]
     },
     "execution_count": 143,
     "metadata": {},
     "output_type": "execute_result"
    }
   ],
   "source": [
    "HewlettPackard.set_index('Date', inplace=True)\n",
    "HewlettPackard.head()"
   ]
  },
  {
   "cell_type": "code",
   "execution_count": 144,
   "metadata": {},
   "outputs": [
    {
     "data": {
      "text/html": [
       "<div>\n",
       "<style scoped>\n",
       "    .dataframe tbody tr th:only-of-type {\n",
       "        vertical-align: middle;\n",
       "    }\n",
       "\n",
       "    .dataframe tbody tr th {\n",
       "        vertical-align: top;\n",
       "    }\n",
       "\n",
       "    .dataframe thead th {\n",
       "        text-align: right;\n",
       "    }\n",
       "</style>\n",
       "<table border=\"1\" class=\"dataframe\">\n",
       "  <thead>\n",
       "    <tr style=\"text-align: right;\">\n",
       "      <th></th>\n",
       "      <th>HewlettPackard</th>\n",
       "      <th>Alphabet</th>\n",
       "      <th>Reliance</th>\n",
       "    </tr>\n",
       "    <tr>\n",
       "      <th>Date</th>\n",
       "      <th></th>\n",
       "      <th></th>\n",
       "      <th></th>\n",
       "    </tr>\n",
       "  </thead>\n",
       "  <tbody>\n",
       "    <tr>\n",
       "      <th>6/4/2018</th>\n",
       "      <td>15.50</td>\n",
       "      <td>1122.33</td>\n",
       "      <td>924.6</td>\n",
       "    </tr>\n",
       "    <tr>\n",
       "      <th>6/5/2018</th>\n",
       "      <td>15.50</td>\n",
       "      <td>1140.99</td>\n",
       "      <td>933.91</td>\n",
       "    </tr>\n",
       "    <tr>\n",
       "      <th>6/6/2018</th>\n",
       "      <td>16.11</td>\n",
       "      <td>1142.17</td>\n",
       "      <td>938.07</td>\n",
       "    </tr>\n",
       "    <tr>\n",
       "      <th>6/7/2018</th>\n",
       "      <td>15.98</td>\n",
       "      <td>1131.32</td>\n",
       "      <td>945.9</td>\n",
       "    </tr>\n",
       "    <tr>\n",
       "      <th>6/8/2018</th>\n",
       "      <td>15.82</td>\n",
       "      <td>1118.18</td>\n",
       "      <td>957.24</td>\n",
       "    </tr>\n",
       "    <tr>\n",
       "      <th>...</th>\n",
       "      <td>...</td>\n",
       "      <td>...</td>\n",
       "      <td>...</td>\n",
       "    </tr>\n",
       "    <tr>\n",
       "      <th>6/3/2020</th>\n",
       "      <td>10.03</td>\n",
       "      <td>1438.30</td>\n",
       "      <td>1545</td>\n",
       "    </tr>\n",
       "    <tr>\n",
       "      <th>6/4/2020</th>\n",
       "      <td>10.20</td>\n",
       "      <td>1430.40</td>\n",
       "      <td>1544</td>\n",
       "    </tr>\n",
       "    <tr>\n",
       "      <th>6/5/2020</th>\n",
       "      <td>11.17</td>\n",
       "      <td>1413.17</td>\n",
       "      <td>1595</td>\n",
       "    </tr>\n",
       "    <tr>\n",
       "      <th>6/8/2020</th>\n",
       "      <td>11.46</td>\n",
       "      <td>1422.34</td>\n",
       "      <td>1618.4</td>\n",
       "    </tr>\n",
       "    <tr>\n",
       "      <th>6/9/2020</th>\n",
       "      <td>11.20</td>\n",
       "      <td>1445.36</td>\n",
       "      <td>1560.3</td>\n",
       "    </tr>\n",
       "  </tbody>\n",
       "</table>\n",
       "<p>471 rows × 3 columns</p>\n",
       "</div>"
      ],
      "text/plain": [
       "           HewlettPackard  Alphabet Reliance\n",
       "Date                                        \n",
       "6/4/2018            15.50   1122.33    924.6\n",
       "6/5/2018            15.50   1140.99   933.91\n",
       "6/6/2018            16.11   1142.17   938.07\n",
       "6/7/2018            15.98   1131.32    945.9\n",
       "6/8/2018            15.82   1118.18   957.24\n",
       "...                   ...       ...      ...\n",
       "6/3/2020            10.03   1438.30     1545\n",
       "6/4/2020            10.20   1430.40     1544\n",
       "6/5/2020            11.17   1413.17     1595\n",
       "6/8/2020            11.46   1422.34   1618.4\n",
       "6/9/2020            11.20   1445.36   1560.3\n",
       "\n",
       "[471 rows x 3 columns]"
      ]
     },
     "execution_count": 144,
     "metadata": {},
     "output_type": "execute_result"
    }
   ],
   "source": [
    "# Concatenate all stocks into a single DataFrame\n",
    "# YOUR CODE HERE\n",
    "bjorn_custom_concat = pd.concat([HewlettPackard, Alphabet, Reliance], axis = \"columns\", join = \"inner\")\n",
    "bjorn_custom_concat"
   ]
  },
  {
   "cell_type": "code",
   "execution_count": 14,
   "metadata": {},
   "outputs": [],
   "source": [
    "# Reset the index\n",
    "# YOUR CODE HERE\n",
    "##########I SET THE INDEX COLUMN AS DATE ALREADY ABOVE :) - Bjorn"
   ]
  },
  {
   "cell_type": "code",
   "execution_count": null,
   "metadata": {},
   "outputs": [],
   "source": [
    "# Pivot so that each column of prices represents a unique symbol\n",
    "# YOUR CODE HERE\n",
    "#########Renamed Columns ALREADY ABOVE :) - Bjorn"
   ]
  },
  {
   "cell_type": "code",
   "execution_count": 158,
   "metadata": {},
   "outputs": [
    {
     "data": {
      "text/html": [
       "<div>\n",
       "<style scoped>\n",
       "    .dataframe tbody tr th:only-of-type {\n",
       "        vertical-align: middle;\n",
       "    }\n",
       "\n",
       "    .dataframe tbody tr th {\n",
       "        vertical-align: top;\n",
       "    }\n",
       "\n",
       "    .dataframe thead th {\n",
       "        text-align: right;\n",
       "    }\n",
       "</style>\n",
       "<table border=\"1\" class=\"dataframe\">\n",
       "  <thead>\n",
       "    <tr style=\"text-align: right;\">\n",
       "      <th></th>\n",
       "      <th>HewlettPackard</th>\n",
       "      <th>Alphabet</th>\n",
       "      <th>Reliance</th>\n",
       "    </tr>\n",
       "    <tr>\n",
       "      <th>Date</th>\n",
       "      <th></th>\n",
       "      <th></th>\n",
       "      <th></th>\n",
       "    </tr>\n",
       "  </thead>\n",
       "  <tbody>\n",
       "    <tr>\n",
       "      <th>6/4/2018</th>\n",
       "      <td>15.50</td>\n",
       "      <td>1122.33</td>\n",
       "      <td>924.60</td>\n",
       "    </tr>\n",
       "    <tr>\n",
       "      <th>6/5/2018</th>\n",
       "      <td>15.50</td>\n",
       "      <td>1140.99</td>\n",
       "      <td>933.91</td>\n",
       "    </tr>\n",
       "    <tr>\n",
       "      <th>6/6/2018</th>\n",
       "      <td>16.11</td>\n",
       "      <td>1142.17</td>\n",
       "      <td>938.07</td>\n",
       "    </tr>\n",
       "    <tr>\n",
       "      <th>6/7/2018</th>\n",
       "      <td>15.98</td>\n",
       "      <td>1131.32</td>\n",
       "      <td>945.90</td>\n",
       "    </tr>\n",
       "    <tr>\n",
       "      <th>6/8/2018</th>\n",
       "      <td>15.82</td>\n",
       "      <td>1118.18</td>\n",
       "      <td>957.24</td>\n",
       "    </tr>\n",
       "    <tr>\n",
       "      <th>...</th>\n",
       "      <td>...</td>\n",
       "      <td>...</td>\n",
       "      <td>...</td>\n",
       "    </tr>\n",
       "    <tr>\n",
       "      <th>6/3/2020</th>\n",
       "      <td>10.03</td>\n",
       "      <td>1438.30</td>\n",
       "      <td>1545.00</td>\n",
       "    </tr>\n",
       "    <tr>\n",
       "      <th>6/4/2020</th>\n",
       "      <td>10.20</td>\n",
       "      <td>1430.40</td>\n",
       "      <td>1544.00</td>\n",
       "    </tr>\n",
       "    <tr>\n",
       "      <th>6/5/2020</th>\n",
       "      <td>11.17</td>\n",
       "      <td>1413.17</td>\n",
       "      <td>1595.00</td>\n",
       "    </tr>\n",
       "    <tr>\n",
       "      <th>6/8/2020</th>\n",
       "      <td>11.46</td>\n",
       "      <td>1422.34</td>\n",
       "      <td>1618.40</td>\n",
       "    </tr>\n",
       "    <tr>\n",
       "      <th>6/9/2020</th>\n",
       "      <td>11.20</td>\n",
       "      <td>1445.36</td>\n",
       "      <td>1560.30</td>\n",
       "    </tr>\n",
       "  </tbody>\n",
       "</table>\n",
       "<p>471 rows × 3 columns</p>\n",
       "</div>"
      ],
      "text/plain": [
       "           HewlettPackard  Alphabet  Reliance\n",
       "Date                                         \n",
       "6/4/2018            15.50   1122.33    924.60\n",
       "6/5/2018            15.50   1140.99    933.91\n",
       "6/6/2018            16.11   1142.17    938.07\n",
       "6/7/2018            15.98   1131.32    945.90\n",
       "6/8/2018            15.82   1118.18    957.24\n",
       "...                   ...       ...       ...\n",
       "6/3/2020            10.03   1438.30   1545.00\n",
       "6/4/2020            10.20   1430.40   1544.00\n",
       "6/5/2020            11.17   1413.17   1595.00\n",
       "6/8/2020            11.46   1422.34   1618.40\n",
       "6/9/2020            11.20   1445.36   1560.30\n",
       "\n",
       "[471 rows x 3 columns]"
      ]
     },
     "execution_count": 158,
     "metadata": {},
     "output_type": "execute_result"
    }
   ],
   "source": [
    "# Drop Nulls\n",
    "# YOUR CODE HERE\n",
    "\n",
    "bjorn_custom_concat = bjorn_custom_concat.dropna()\n",
    "bjorn_custom_concat"
   ]
  },
  {
   "cell_type": "code",
   "execution_count": 160,
   "metadata": {},
   "outputs": [
    {
     "data": {
      "text/html": [
       "<div>\n",
       "<style scoped>\n",
       "    .dataframe tbody tr th:only-of-type {\n",
       "        vertical-align: middle;\n",
       "    }\n",
       "\n",
       "    .dataframe tbody tr th {\n",
       "        vertical-align: top;\n",
       "    }\n",
       "\n",
       "    .dataframe thead th {\n",
       "        text-align: right;\n",
       "    }\n",
       "</style>\n",
       "<table border=\"1\" class=\"dataframe\">\n",
       "  <thead>\n",
       "    <tr style=\"text-align: right;\">\n",
       "      <th></th>\n",
       "      <th>HewlettPackard</th>\n",
       "      <th>Alphabet</th>\n",
       "      <th>Reliance</th>\n",
       "    </tr>\n",
       "    <tr>\n",
       "      <th>Date</th>\n",
       "      <th></th>\n",
       "      <th></th>\n",
       "      <th></th>\n",
       "    </tr>\n",
       "  </thead>\n",
       "  <tbody>\n",
       "    <tr>\n",
       "      <th>6/4/2018</th>\n",
       "      <td>15.50</td>\n",
       "      <td>1122.33</td>\n",
       "      <td>924.60</td>\n",
       "    </tr>\n",
       "    <tr>\n",
       "      <th>6/5/2018</th>\n",
       "      <td>15.50</td>\n",
       "      <td>1140.99</td>\n",
       "      <td>933.91</td>\n",
       "    </tr>\n",
       "    <tr>\n",
       "      <th>6/6/2018</th>\n",
       "      <td>16.11</td>\n",
       "      <td>1142.17</td>\n",
       "      <td>938.07</td>\n",
       "    </tr>\n",
       "    <tr>\n",
       "      <th>6/7/2018</th>\n",
       "      <td>15.98</td>\n",
       "      <td>1131.32</td>\n",
       "      <td>945.90</td>\n",
       "    </tr>\n",
       "    <tr>\n",
       "      <th>6/8/2018</th>\n",
       "      <td>15.82</td>\n",
       "      <td>1118.18</td>\n",
       "      <td>957.24</td>\n",
       "    </tr>\n",
       "    <tr>\n",
       "      <th>...</th>\n",
       "      <td>...</td>\n",
       "      <td>...</td>\n",
       "      <td>...</td>\n",
       "    </tr>\n",
       "    <tr>\n",
       "      <th>6/3/2020</th>\n",
       "      <td>10.03</td>\n",
       "      <td>1438.30</td>\n",
       "      <td>1545.00</td>\n",
       "    </tr>\n",
       "    <tr>\n",
       "      <th>6/4/2020</th>\n",
       "      <td>10.20</td>\n",
       "      <td>1430.40</td>\n",
       "      <td>1544.00</td>\n",
       "    </tr>\n",
       "    <tr>\n",
       "      <th>6/5/2020</th>\n",
       "      <td>11.17</td>\n",
       "      <td>1413.17</td>\n",
       "      <td>1595.00</td>\n",
       "    </tr>\n",
       "    <tr>\n",
       "      <th>6/8/2020</th>\n",
       "      <td>11.46</td>\n",
       "      <td>1422.34</td>\n",
       "      <td>1618.40</td>\n",
       "    </tr>\n",
       "    <tr>\n",
       "      <th>6/9/2020</th>\n",
       "      <td>11.20</td>\n",
       "      <td>1445.36</td>\n",
       "      <td>1560.30</td>\n",
       "    </tr>\n",
       "  </tbody>\n",
       "</table>\n",
       "<p>471 rows × 3 columns</p>\n",
       "</div>"
      ],
      "text/plain": [
       "           HewlettPackard  Alphabet  Reliance\n",
       "Date                                         \n",
       "6/4/2018            15.50   1122.33    924.60\n",
       "6/5/2018            15.50   1140.99    933.91\n",
       "6/6/2018            16.11   1142.17    938.07\n",
       "6/7/2018            15.98   1131.32    945.90\n",
       "6/8/2018            15.82   1118.18    957.24\n",
       "...                   ...       ...       ...\n",
       "6/3/2020            10.03   1438.30   1545.00\n",
       "6/4/2020            10.20   1430.40   1544.00\n",
       "6/5/2020            11.17   1413.17   1595.00\n",
       "6/8/2020            11.46   1422.34   1618.40\n",
       "6/9/2020            11.20   1445.36   1560.30\n",
       "\n",
       "[471 rows x 3 columns]"
      ]
     },
     "execution_count": 160,
     "metadata": {},
     "output_type": "execute_result"
    }
   ],
   "source": [
    "bjorn_custom_concat = bjorn_custom_concat.apply(pd.to_numeric)\n",
    "bjorn_custom_concat"
   ]
  },
  {
   "cell_type": "code",
   "execution_count": 163,
   "metadata": {},
   "outputs": [
    {
     "data": {
      "text/html": [
       "<div>\n",
       "<style scoped>\n",
       "    .dataframe tbody tr th:only-of-type {\n",
       "        vertical-align: middle;\n",
       "    }\n",
       "\n",
       "    .dataframe tbody tr th {\n",
       "        vertical-align: top;\n",
       "    }\n",
       "\n",
       "    .dataframe thead th {\n",
       "        text-align: right;\n",
       "    }\n",
       "</style>\n",
       "<table border=\"1\" class=\"dataframe\">\n",
       "  <thead>\n",
       "    <tr style=\"text-align: right;\">\n",
       "      <th></th>\n",
       "      <th>HewlettPackard</th>\n",
       "      <th>Alphabet</th>\n",
       "      <th>Reliance</th>\n",
       "    </tr>\n",
       "    <tr>\n",
       "      <th>Date</th>\n",
       "      <th></th>\n",
       "      <th></th>\n",
       "      <th></th>\n",
       "    </tr>\n",
       "  </thead>\n",
       "  <tbody>\n",
       "    <tr>\n",
       "      <th>6/4/2018</th>\n",
       "      <td>NaN</td>\n",
       "      <td>NaN</td>\n",
       "      <td>NaN</td>\n",
       "    </tr>\n",
       "    <tr>\n",
       "      <th>6/5/2018</th>\n",
       "      <td>0.000000</td>\n",
       "      <td>0.016626</td>\n",
       "      <td>0.010069</td>\n",
       "    </tr>\n",
       "    <tr>\n",
       "      <th>6/6/2018</th>\n",
       "      <td>0.039355</td>\n",
       "      <td>0.001034</td>\n",
       "      <td>0.004454</td>\n",
       "    </tr>\n",
       "    <tr>\n",
       "      <th>6/7/2018</th>\n",
       "      <td>-0.008070</td>\n",
       "      <td>-0.009499</td>\n",
       "      <td>0.008347</td>\n",
       "    </tr>\n",
       "    <tr>\n",
       "      <th>6/8/2018</th>\n",
       "      <td>-0.010013</td>\n",
       "      <td>-0.011615</td>\n",
       "      <td>0.011989</td>\n",
       "    </tr>\n",
       "    <tr>\n",
       "      <th>...</th>\n",
       "      <td>...</td>\n",
       "      <td>...</td>\n",
       "      <td>...</td>\n",
       "    </tr>\n",
       "    <tr>\n",
       "      <th>6/3/2020</th>\n",
       "      <td>0.016211</td>\n",
       "      <td>0.005417</td>\n",
       "      <td>0.012451</td>\n",
       "    </tr>\n",
       "    <tr>\n",
       "      <th>6/4/2020</th>\n",
       "      <td>0.016949</td>\n",
       "      <td>-0.005493</td>\n",
       "      <td>-0.000647</td>\n",
       "    </tr>\n",
       "    <tr>\n",
       "      <th>6/5/2020</th>\n",
       "      <td>0.095098</td>\n",
       "      <td>-0.012046</td>\n",
       "      <td>0.033031</td>\n",
       "    </tr>\n",
       "    <tr>\n",
       "      <th>6/8/2020</th>\n",
       "      <td>0.025962</td>\n",
       "      <td>0.006489</td>\n",
       "      <td>0.014671</td>\n",
       "    </tr>\n",
       "    <tr>\n",
       "      <th>6/9/2020</th>\n",
       "      <td>-0.022688</td>\n",
       "      <td>0.016185</td>\n",
       "      <td>-0.035900</td>\n",
       "    </tr>\n",
       "  </tbody>\n",
       "</table>\n",
       "<p>471 rows × 3 columns</p>\n",
       "</div>"
      ],
      "text/plain": [
       "           HewlettPackard  Alphabet  Reliance\n",
       "Date                                         \n",
       "6/4/2018              NaN       NaN       NaN\n",
       "6/5/2018         0.000000  0.016626  0.010069\n",
       "6/6/2018         0.039355  0.001034  0.004454\n",
       "6/7/2018        -0.008070 -0.009499  0.008347\n",
       "6/8/2018        -0.010013 -0.011615  0.011989\n",
       "...                   ...       ...       ...\n",
       "6/3/2020         0.016211  0.005417  0.012451\n",
       "6/4/2020         0.016949 -0.005493 -0.000647\n",
       "6/5/2020         0.095098 -0.012046  0.033031\n",
       "6/8/2020         0.025962  0.006489  0.014671\n",
       "6/9/2020        -0.022688  0.016185 -0.035900\n",
       "\n",
       "[471 rows x 3 columns]"
      ]
     },
     "execution_count": 163,
     "metadata": {},
     "output_type": "execute_result"
    }
   ],
   "source": [
    "#Calculate Returns\n",
    "bjorn_returns = bjorn_custom_concat.pct_change()\n",
    "bjorn_returns"
   ]
  },
  {
   "cell_type": "code",
   "execution_count": 243,
   "metadata": {},
   "outputs": [
    {
     "data": {
      "text/html": [
       "<div>\n",
       "<style scoped>\n",
       "    .dataframe tbody tr th:only-of-type {\n",
       "        vertical-align: middle;\n",
       "    }\n",
       "\n",
       "    .dataframe tbody tr th {\n",
       "        vertical-align: top;\n",
       "    }\n",
       "\n",
       "    .dataframe thead th {\n",
       "        text-align: right;\n",
       "    }\n",
       "</style>\n",
       "<table border=\"1\" class=\"dataframe\">\n",
       "  <thead>\n",
       "    <tr style=\"text-align: right;\">\n",
       "      <th></th>\n",
       "      <th>HewlettPackard</th>\n",
       "      <th>Alphabet</th>\n",
       "      <th>Reliance</th>\n",
       "    </tr>\n",
       "    <tr>\n",
       "      <th>Date</th>\n",
       "      <th></th>\n",
       "      <th></th>\n",
       "      <th></th>\n",
       "    </tr>\n",
       "  </thead>\n",
       "  <tbody>\n",
       "    <tr>\n",
       "      <th>2018-06-04</th>\n",
       "      <td>NaN</td>\n",
       "      <td>NaN</td>\n",
       "      <td>NaN</td>\n",
       "    </tr>\n",
       "    <tr>\n",
       "      <th>2018-06-05</th>\n",
       "      <td>0.000000</td>\n",
       "      <td>0.016626</td>\n",
       "      <td>0.010069</td>\n",
       "    </tr>\n",
       "    <tr>\n",
       "      <th>2018-06-06</th>\n",
       "      <td>0.039355</td>\n",
       "      <td>0.001034</td>\n",
       "      <td>0.004454</td>\n",
       "    </tr>\n",
       "    <tr>\n",
       "      <th>2018-06-07</th>\n",
       "      <td>-0.008070</td>\n",
       "      <td>-0.009499</td>\n",
       "      <td>0.008347</td>\n",
       "    </tr>\n",
       "    <tr>\n",
       "      <th>2018-06-08</th>\n",
       "      <td>-0.010013</td>\n",
       "      <td>-0.011615</td>\n",
       "      <td>0.011989</td>\n",
       "    </tr>\n",
       "    <tr>\n",
       "      <th>...</th>\n",
       "      <td>...</td>\n",
       "      <td>...</td>\n",
       "      <td>...</td>\n",
       "    </tr>\n",
       "    <tr>\n",
       "      <th>2020-06-03</th>\n",
       "      <td>0.016211</td>\n",
       "      <td>0.005417</td>\n",
       "      <td>0.012451</td>\n",
       "    </tr>\n",
       "    <tr>\n",
       "      <th>2020-06-04</th>\n",
       "      <td>0.016949</td>\n",
       "      <td>-0.005493</td>\n",
       "      <td>-0.000647</td>\n",
       "    </tr>\n",
       "    <tr>\n",
       "      <th>2020-06-05</th>\n",
       "      <td>0.095098</td>\n",
       "      <td>-0.012046</td>\n",
       "      <td>0.033031</td>\n",
       "    </tr>\n",
       "    <tr>\n",
       "      <th>2020-06-08</th>\n",
       "      <td>0.025962</td>\n",
       "      <td>0.006489</td>\n",
       "      <td>0.014671</td>\n",
       "    </tr>\n",
       "    <tr>\n",
       "      <th>2020-06-09</th>\n",
       "      <td>-0.022688</td>\n",
       "      <td>0.016185</td>\n",
       "      <td>-0.035900</td>\n",
       "    </tr>\n",
       "  </tbody>\n",
       "</table>\n",
       "<p>471 rows × 3 columns</p>\n",
       "</div>"
      ],
      "text/plain": [
       "            HewlettPackard  Alphabet  Reliance\n",
       "Date                                          \n",
       "2018-06-04             NaN       NaN       NaN\n",
       "2018-06-05        0.000000  0.016626  0.010069\n",
       "2018-06-06        0.039355  0.001034  0.004454\n",
       "2018-06-07       -0.008070 -0.009499  0.008347\n",
       "2018-06-08       -0.010013 -0.011615  0.011989\n",
       "...                    ...       ...       ...\n",
       "2020-06-03        0.016211  0.005417  0.012451\n",
       "2020-06-04        0.016949 -0.005493 -0.000647\n",
       "2020-06-05        0.095098 -0.012046  0.033031\n",
       "2020-06-08        0.025962  0.006489  0.014671\n",
       "2020-06-09       -0.022688  0.016185 -0.035900\n",
       "\n",
       "[471 rows x 3 columns]"
      ]
     },
     "execution_count": 243,
     "metadata": {},
     "output_type": "execute_result"
    }
   ],
   "source": [
    "bjorn_returns.index = pd.to_datetime(bjorn_returns.index)\n",
    "bjorn_returns"
   ]
  },
  {
   "cell_type": "markdown",
   "metadata": {},
   "source": [
    "## Calculate the weighted returns for the portfolio assuming an equal number of shares for each stock"
   ]
  },
  {
   "cell_type": "code",
   "execution_count": 244,
   "metadata": {},
   "outputs": [
    {
     "data": {
      "text/plain": [
       "Date\n",
       "2018-06-04         NaN\n",
       "2018-06-05    0.008898\n",
       "2018-06-06    0.014948\n",
       "2018-06-07   -0.003074\n",
       "2018-06-08   -0.003213\n",
       "                ...   \n",
       "2020-06-03    0.011360\n",
       "2020-06-04    0.003603\n",
       "2020-06-05    0.038695\n",
       "2020-06-08    0.015707\n",
       "2020-06-09   -0.014134\n",
       "Length: 471, dtype: float64"
      ]
     },
     "execution_count": 244,
     "metadata": {},
     "output_type": "execute_result"
    }
   ],
   "source": [
    "# Calculate weighted portfolio returns\n",
    "#####weights = [1/3, 1/3, 1/3]\n",
    "Relianceweight = 1/3\n",
    "Alphabetweight = 1/3\n",
    "HewlettPackardweight = 1/3\n",
    "# YOUR CODE HERE\n",
    "bjorn_portfolio_returns = Alphabetweight * bjorn_returns[\"Alphabet\"] + HewlettPackardweight * bjorn_returns[\"HewlettPackard\"] + Relianceweight * bjorn_returns[\"Reliance\"]\n",
    "bjorn_portfolio_returns"
   ]
  },
  {
   "cell_type": "code",
   "execution_count": 227,
   "metadata": {},
   "outputs": [
    {
     "data": {
      "text/plain": [
       "dtype('O')"
      ]
     },
     "execution_count": 227,
     "metadata": {},
     "output_type": "execute_result"
    }
   ],
   "source": [
    "bjorn_portfolio_returns.asdtypes\n",
    "bjorn_portfolio_returns = pd.DataFrame(myarray,columns=['a','b'], dtype={'a': 'int'})"
   ]
  },
  {
   "cell_type": "markdown",
   "metadata": {},
   "source": [
    "## Join your portfolio returns to the DataFrame that contains all of the portfolio returns"
   ]
  },
  {
   "cell_type": "code",
   "execution_count": 274,
   "metadata": {
    "scrolled": true
   },
   "outputs": [
    {
     "data": {
      "text/html": [
       "<div>\n",
       "<style scoped>\n",
       "    .dataframe tbody tr th:only-of-type {\n",
       "        vertical-align: middle;\n",
       "    }\n",
       "\n",
       "    .dataframe tbody tr th {\n",
       "        vertical-align: top;\n",
       "    }\n",
       "\n",
       "    .dataframe thead th {\n",
       "        text-align: right;\n",
       "    }\n",
       "</style>\n",
       "<table border=\"1\" class=\"dataframe\">\n",
       "  <thead>\n",
       "    <tr style=\"text-align: right;\">\n",
       "      <th></th>\n",
       "      <th>SOROS FUND MANAGEMENT LLC</th>\n",
       "      <th>PAULSON &amp; CO.INC.</th>\n",
       "      <th>TIGER GLOBAL MANAGEMENT LLC</th>\n",
       "      <th>BERKSHIRE HATHAWAY INC</th>\n",
       "      <th>Algo 1</th>\n",
       "      <th>Algo 2</th>\n",
       "      <th>S&amp;P 500</th>\n",
       "      <th>0</th>\n",
       "    </tr>\n",
       "    <tr>\n",
       "      <th>Date</th>\n",
       "      <th></th>\n",
       "      <th></th>\n",
       "      <th></th>\n",
       "      <th></th>\n",
       "      <th></th>\n",
       "      <th></th>\n",
       "      <th></th>\n",
       "      <th></th>\n",
       "    </tr>\n",
       "  </thead>\n",
       "  <tbody>\n",
       "    <tr>\n",
       "      <th>2018-06-04</th>\n",
       "      <td>0.148999</td>\n",
       "      <td>-2.160373</td>\n",
       "      <td>1.146796</td>\n",
       "      <td>-0.290082</td>\n",
       "      <td>-1.531019</td>\n",
       "      <td>-1.046454</td>\n",
       "      <td>-0.842560</td>\n",
       "      <td>NaN</td>\n",
       "    </tr>\n",
       "    <tr>\n",
       "      <th>2018-06-05</th>\n",
       "      <td>-0.873494</td>\n",
       "      <td>-2.597580</td>\n",
       "      <td>-1.559215</td>\n",
       "      <td>-0.002501</td>\n",
       "      <td>0.061337</td>\n",
       "      <td>-15.587765</td>\n",
       "      <td>11.098421</td>\n",
       "      <td>0.008898</td>\n",
       "    </tr>\n",
       "    <tr>\n",
       "      <th>2018-06-06</th>\n",
       "      <td>13.147100</td>\n",
       "      <td>0.420843</td>\n",
       "      <td>-1.700102</td>\n",
       "      <td>0.108327</td>\n",
       "      <td>-5.057326</td>\n",
       "      <td>0.014516</td>\n",
       "      <td>-1.084137</td>\n",
       "      <td>0.014948</td>\n",
       "    </tr>\n",
       "    <tr>\n",
       "      <th>2018-06-07</th>\n",
       "      <td>-1.086160</td>\n",
       "      <td>-0.072620</td>\n",
       "      <td>-1.481217</td>\n",
       "      <td>-2.287714</td>\n",
       "      <td>-1.909386</td>\n",
       "      <td>-1.495088</td>\n",
       "      <td>-5.360108</td>\n",
       "      <td>-0.003074</td>\n",
       "    </tr>\n",
       "    <tr>\n",
       "      <th>2018-06-08</th>\n",
       "      <td>-2.943675</td>\n",
       "      <td>-0.151161</td>\n",
       "      <td>-5.832965</td>\n",
       "      <td>-1.628934</td>\n",
       "      <td>-1.163502</td>\n",
       "      <td>-1.489841</td>\n",
       "      <td>-0.657410</td>\n",
       "      <td>-0.003213</td>\n",
       "    </tr>\n",
       "    <tr>\n",
       "      <th>...</th>\n",
       "      <td>...</td>\n",
       "      <td>...</td>\n",
       "      <td>...</td>\n",
       "      <td>...</td>\n",
       "      <td>...</td>\n",
       "      <td>...</td>\n",
       "      <td>...</td>\n",
       "      <td>...</td>\n",
       "    </tr>\n",
       "    <tr>\n",
       "      <th>2019-04-12</th>\n",
       "      <td>0.662481</td>\n",
       "      <td>-0.705739</td>\n",
       "      <td>-7.617165</td>\n",
       "      <td>-15.737949</td>\n",
       "      <td>-4.226684</td>\n",
       "      <td>-3.873464</td>\n",
       "      <td>-1.095922</td>\n",
       "      <td>0.010260</td>\n",
       "    </tr>\n",
       "    <tr>\n",
       "      <th>2019-04-15</th>\n",
       "      <td>-1.251107</td>\n",
       "      <td>-0.007347</td>\n",
       "      <td>-0.905642</td>\n",
       "      <td>-2.434236</td>\n",
       "      <td>-0.212628</td>\n",
       "      <td>-2.014920</td>\n",
       "      <td>-1.808331</td>\n",
       "      <td>0.000360</td>\n",
       "    </tr>\n",
       "    <tr>\n",
       "      <th>2019-04-16</th>\n",
       "      <td>-2.898341</td>\n",
       "      <td>-1.335693</td>\n",
       "      <td>-3.088322</td>\n",
       "      <td>-1.079744</td>\n",
       "      <td>0.603391</td>\n",
       "      <td>-1.634218</td>\n",
       "      <td>-5.476395</td>\n",
       "      <td>0.004768</td>\n",
       "    </tr>\n",
       "    <tr>\n",
       "      <th>2019-04-18</th>\n",
       "      <td>-1.499843</td>\n",
       "      <td>-1.188925</td>\n",
       "      <td>-1.131886</td>\n",
       "      <td>-0.405345</td>\n",
       "      <td>-0.942926</td>\n",
       "      <td>-0.764890</td>\n",
       "      <td>-0.358728</td>\n",
       "      <td>0.013112</td>\n",
       "    </tr>\n",
       "    <tr>\n",
       "      <th>2019-04-22</th>\n",
       "      <td>-2.785826</td>\n",
       "      <td>-7.001458</td>\n",
       "      <td>-7.259521</td>\n",
       "      <td>-1.567709</td>\n",
       "      <td>-2.150780</td>\n",
       "      <td>0.574781</td>\n",
       "      <td>7.668260</td>\n",
       "      <td>-0.003088</td>\n",
       "    </tr>\n",
       "  </tbody>\n",
       "</table>\n",
       "<p>207 rows × 8 columns</p>\n",
       "</div>"
      ],
      "text/plain": [
       "            SOROS FUND MANAGEMENT LLC  PAULSON & CO.INC.   \\\n",
       "Date                                                        \n",
       "2018-06-04                   0.148999           -2.160373   \n",
       "2018-06-05                  -0.873494           -2.597580   \n",
       "2018-06-06                  13.147100            0.420843   \n",
       "2018-06-07                  -1.086160           -0.072620   \n",
       "2018-06-08                  -2.943675           -0.151161   \n",
       "...                               ...                 ...   \n",
       "2019-04-12                   0.662481           -0.705739   \n",
       "2019-04-15                  -1.251107           -0.007347   \n",
       "2019-04-16                  -2.898341           -1.335693   \n",
       "2019-04-18                  -1.499843           -1.188925   \n",
       "2019-04-22                  -2.785826           -7.001458   \n",
       "\n",
       "            TIGER GLOBAL MANAGEMENT LLC  BERKSHIRE HATHAWAY INC    Algo 1  \\\n",
       "Date                                                                        \n",
       "2018-06-04                     1.146796               -0.290082 -1.531019   \n",
       "2018-06-05                    -1.559215               -0.002501  0.061337   \n",
       "2018-06-06                    -1.700102                0.108327 -5.057326   \n",
       "2018-06-07                    -1.481217               -2.287714 -1.909386   \n",
       "2018-06-08                    -5.832965               -1.628934 -1.163502   \n",
       "...                                 ...                     ...       ...   \n",
       "2019-04-12                    -7.617165              -15.737949 -4.226684   \n",
       "2019-04-15                    -0.905642               -2.434236 -0.212628   \n",
       "2019-04-16                    -3.088322               -1.079744  0.603391   \n",
       "2019-04-18                    -1.131886               -0.405345 -0.942926   \n",
       "2019-04-22                    -7.259521               -1.567709 -2.150780   \n",
       "\n",
       "               Algo 2    S&P 500         0  \n",
       "Date                                        \n",
       "2018-06-04  -1.046454  -0.842560       NaN  \n",
       "2018-06-05 -15.587765  11.098421  0.008898  \n",
       "2018-06-06   0.014516  -1.084137  0.014948  \n",
       "2018-06-07  -1.495088  -5.360108 -0.003074  \n",
       "2018-06-08  -1.489841  -0.657410 -0.003213  \n",
       "...               ...        ...       ...  \n",
       "2019-04-12  -3.873464  -1.095922  0.010260  \n",
       "2019-04-15  -2.014920  -1.808331  0.000360  \n",
       "2019-04-16  -1.634218  -5.476395  0.004768  \n",
       "2019-04-18  -0.764890  -0.358728  0.013112  \n",
       "2019-04-22   0.574781   7.668260 -0.003088  \n",
       "\n",
       "[207 rows x 8 columns]"
      ]
     },
     "execution_count": 274,
     "metadata": {},
     "output_type": "execute_result"
    }
   ],
   "source": [
    "# Add your \"Custom\" portfolio to the larger dataframe of fund returns\n",
    "# YOUR CODE HERE\n",
    "combined_with_bjorn_portfolio_returns = pd.concat([combined_portfolio_returns, bjorn_portfolio_returns], axis = \"columns\", join = \"inner\")\n",
    "combined_with_bjorn_portfolio_returns"
   ]
  },
  {
   "cell_type": "code",
   "execution_count": 275,
   "metadata": {},
   "outputs": [],
   "source": [
    "combined_with_bjorn_portfolio_returns.rename(columns = {'0':'Bjorn Hedge Fund'}, inplace = True)"
   ]
  },
  {
   "cell_type": "code",
   "execution_count": 276,
   "metadata": {},
   "outputs": [
    {
     "data": {
      "text/html": [
       "<div>\n",
       "<style scoped>\n",
       "    .dataframe tbody tr th:only-of-type {\n",
       "        vertical-align: middle;\n",
       "    }\n",
       "\n",
       "    .dataframe tbody tr th {\n",
       "        vertical-align: top;\n",
       "    }\n",
       "\n",
       "    .dataframe thead th {\n",
       "        text-align: right;\n",
       "    }\n",
       "</style>\n",
       "<table border=\"1\" class=\"dataframe\">\n",
       "  <thead>\n",
       "    <tr style=\"text-align: right;\">\n",
       "      <th></th>\n",
       "      <th>SOROS FUND MANAGEMENT LLC</th>\n",
       "      <th>PAULSON &amp; CO.INC.</th>\n",
       "      <th>TIGER GLOBAL MANAGEMENT LLC</th>\n",
       "      <th>BERKSHIRE HATHAWAY INC</th>\n",
       "      <th>Algo 1</th>\n",
       "      <th>Algo 2</th>\n",
       "      <th>S&amp;P 500</th>\n",
       "      <th>0</th>\n",
       "    </tr>\n",
       "    <tr>\n",
       "      <th>Date</th>\n",
       "      <th></th>\n",
       "      <th></th>\n",
       "      <th></th>\n",
       "      <th></th>\n",
       "      <th></th>\n",
       "      <th></th>\n",
       "      <th></th>\n",
       "      <th></th>\n",
       "    </tr>\n",
       "  </thead>\n",
       "  <tbody>\n",
       "    <tr>\n",
       "      <th>2018-06-05</th>\n",
       "      <td>-0.873494</td>\n",
       "      <td>-2.597580</td>\n",
       "      <td>-1.559215</td>\n",
       "      <td>-0.002501</td>\n",
       "      <td>0.061337</td>\n",
       "      <td>-15.587765</td>\n",
       "      <td>11.098421</td>\n",
       "      <td>0.008898</td>\n",
       "    </tr>\n",
       "    <tr>\n",
       "      <th>2018-06-06</th>\n",
       "      <td>13.147100</td>\n",
       "      <td>0.420843</td>\n",
       "      <td>-1.700102</td>\n",
       "      <td>0.108327</td>\n",
       "      <td>-5.057326</td>\n",
       "      <td>0.014516</td>\n",
       "      <td>-1.084137</td>\n",
       "      <td>0.014948</td>\n",
       "    </tr>\n",
       "    <tr>\n",
       "      <th>2018-06-07</th>\n",
       "      <td>-1.086160</td>\n",
       "      <td>-0.072620</td>\n",
       "      <td>-1.481217</td>\n",
       "      <td>-2.287714</td>\n",
       "      <td>-1.909386</td>\n",
       "      <td>-1.495088</td>\n",
       "      <td>-5.360108</td>\n",
       "      <td>-0.003074</td>\n",
       "    </tr>\n",
       "    <tr>\n",
       "      <th>2018-06-08</th>\n",
       "      <td>-2.943675</td>\n",
       "      <td>-0.151161</td>\n",
       "      <td>-5.832965</td>\n",
       "      <td>-1.628934</td>\n",
       "      <td>-1.163502</td>\n",
       "      <td>-1.489841</td>\n",
       "      <td>-0.657410</td>\n",
       "      <td>-0.003213</td>\n",
       "    </tr>\n",
       "    <tr>\n",
       "      <th>2018-06-11</th>\n",
       "      <td>1.933413</td>\n",
       "      <td>-0.419135</td>\n",
       "      <td>0.599900</td>\n",
       "      <td>-1.070992</td>\n",
       "      <td>-0.452588</td>\n",
       "      <td>0.413756</td>\n",
       "      <td>0.630155</td>\n",
       "      <td>0.010235</td>\n",
       "    </tr>\n",
       "    <tr>\n",
       "      <th>...</th>\n",
       "      <td>...</td>\n",
       "      <td>...</td>\n",
       "      <td>...</td>\n",
       "      <td>...</td>\n",
       "      <td>...</td>\n",
       "      <td>...</td>\n",
       "      <td>...</td>\n",
       "      <td>...</td>\n",
       "    </tr>\n",
       "    <tr>\n",
       "      <th>2019-04-12</th>\n",
       "      <td>0.662481</td>\n",
       "      <td>-0.705739</td>\n",
       "      <td>-7.617165</td>\n",
       "      <td>-15.737949</td>\n",
       "      <td>-4.226684</td>\n",
       "      <td>-3.873464</td>\n",
       "      <td>-1.095922</td>\n",
       "      <td>0.010260</td>\n",
       "    </tr>\n",
       "    <tr>\n",
       "      <th>2019-04-15</th>\n",
       "      <td>-1.251107</td>\n",
       "      <td>-0.007347</td>\n",
       "      <td>-0.905642</td>\n",
       "      <td>-2.434236</td>\n",
       "      <td>-0.212628</td>\n",
       "      <td>-2.014920</td>\n",
       "      <td>-1.808331</td>\n",
       "      <td>0.000360</td>\n",
       "    </tr>\n",
       "    <tr>\n",
       "      <th>2019-04-16</th>\n",
       "      <td>-2.898341</td>\n",
       "      <td>-1.335693</td>\n",
       "      <td>-3.088322</td>\n",
       "      <td>-1.079744</td>\n",
       "      <td>0.603391</td>\n",
       "      <td>-1.634218</td>\n",
       "      <td>-5.476395</td>\n",
       "      <td>0.004768</td>\n",
       "    </tr>\n",
       "    <tr>\n",
       "      <th>2019-04-18</th>\n",
       "      <td>-1.499843</td>\n",
       "      <td>-1.188925</td>\n",
       "      <td>-1.131886</td>\n",
       "      <td>-0.405345</td>\n",
       "      <td>-0.942926</td>\n",
       "      <td>-0.764890</td>\n",
       "      <td>-0.358728</td>\n",
       "      <td>0.013112</td>\n",
       "    </tr>\n",
       "    <tr>\n",
       "      <th>2019-04-22</th>\n",
       "      <td>-2.785826</td>\n",
       "      <td>-7.001458</td>\n",
       "      <td>-7.259521</td>\n",
       "      <td>-1.567709</td>\n",
       "      <td>-2.150780</td>\n",
       "      <td>0.574781</td>\n",
       "      <td>7.668260</td>\n",
       "      <td>-0.003088</td>\n",
       "    </tr>\n",
       "  </tbody>\n",
       "</table>\n",
       "<p>205 rows × 8 columns</p>\n",
       "</div>"
      ],
      "text/plain": [
       "            SOROS FUND MANAGEMENT LLC  PAULSON & CO.INC.   \\\n",
       "Date                                                        \n",
       "2018-06-05                  -0.873494           -2.597580   \n",
       "2018-06-06                  13.147100            0.420843   \n",
       "2018-06-07                  -1.086160           -0.072620   \n",
       "2018-06-08                  -2.943675           -0.151161   \n",
       "2018-06-11                   1.933413           -0.419135   \n",
       "...                               ...                 ...   \n",
       "2019-04-12                   0.662481           -0.705739   \n",
       "2019-04-15                  -1.251107           -0.007347   \n",
       "2019-04-16                  -2.898341           -1.335693   \n",
       "2019-04-18                  -1.499843           -1.188925   \n",
       "2019-04-22                  -2.785826           -7.001458   \n",
       "\n",
       "            TIGER GLOBAL MANAGEMENT LLC  BERKSHIRE HATHAWAY INC    Algo 1  \\\n",
       "Date                                                                        \n",
       "2018-06-05                    -1.559215               -0.002501  0.061337   \n",
       "2018-06-06                    -1.700102                0.108327 -5.057326   \n",
       "2018-06-07                    -1.481217               -2.287714 -1.909386   \n",
       "2018-06-08                    -5.832965               -1.628934 -1.163502   \n",
       "2018-06-11                     0.599900               -1.070992 -0.452588   \n",
       "...                                 ...                     ...       ...   \n",
       "2019-04-12                    -7.617165              -15.737949 -4.226684   \n",
       "2019-04-15                    -0.905642               -2.434236 -0.212628   \n",
       "2019-04-16                    -3.088322               -1.079744  0.603391   \n",
       "2019-04-18                    -1.131886               -0.405345 -0.942926   \n",
       "2019-04-22                    -7.259521               -1.567709 -2.150780   \n",
       "\n",
       "               Algo 2    S&P 500         0  \n",
       "Date                                        \n",
       "2018-06-05 -15.587765  11.098421  0.008898  \n",
       "2018-06-06   0.014516  -1.084137  0.014948  \n",
       "2018-06-07  -1.495088  -5.360108 -0.003074  \n",
       "2018-06-08  -1.489841  -0.657410 -0.003213  \n",
       "2018-06-11   0.413756   0.630155  0.010235  \n",
       "...               ...        ...       ...  \n",
       "2019-04-12  -3.873464  -1.095922  0.010260  \n",
       "2019-04-15  -2.014920  -1.808331  0.000360  \n",
       "2019-04-16  -1.634218  -5.476395  0.004768  \n",
       "2019-04-18  -0.764890  -0.358728  0.013112  \n",
       "2019-04-22   0.574781   7.668260 -0.003088  \n",
       "\n",
       "[205 rows x 8 columns]"
      ]
     },
     "execution_count": 276,
     "metadata": {},
     "output_type": "execute_result"
    }
   ],
   "source": [
    "# Only compare dates where return data exists for all the stocks (drop NaNs)\n",
    "# YOUR CODE HERE\n",
    "combined_with_bjorn_portfolio_returns.dropna()"
   ]
  },
  {
   "cell_type": "markdown",
   "metadata": {},
   "source": [
    "## Re-run the performance and risk analysis with your portfolio to see how it compares to the others"
   ]
  },
  {
   "cell_type": "code",
   "execution_count": 277,
   "metadata": {},
   "outputs": [
    {
     "name": "stdout",
     "output_type": "stream",
     "text": [
      "SOROS FUND MANAGEMENT LLC              NaN\n",
      "PAULSON & CO.INC.                      NaN\n",
      "TIGER GLOBAL MANAGEMENT LLC            NaN\n",
      "BERKSHIRE HATHAWAY INC                 NaN\n",
      "Algo 1                           11.558094\n",
      "Algo 2                         1451.724387\n",
      "S&P 500                          42.637028\n",
      "0                                 0.013554\n",
      "dtype: float64\n"
     ]
    }
   ],
   "source": [
    "# Risk\n",
    "# YOUR CODE HERE\n",
    "Standard_Deviation_2 = np.std(combined_with_bjorn_portfolio_returns)\n",
    "print(Standard_Deviation_2)\n",
    "#my portfolio returns column is titled \"0\" still . ."
   ]
  },
  {
   "cell_type": "code",
   "execution_count": 278,
   "metadata": {},
   "outputs": [
    {
     "data": {
      "text/plain": [
       "<matplotlib.axes._subplots.AxesSubplot at 0x28567603580>"
      ]
     },
     "execution_count": 278,
     "metadata": {},
     "output_type": "execute_result"
    },
    {
     "data": {
      "image/png": "[encoded data removed]",
      "text/plain": [
       "<Figure size 432x288 with 1 Axes>"
      ]
     },
     "metadata": {
      "needs_background": "light"
     },
     "output_type": "display_data"
    }
   ],
   "source": [
    "# Rolling\n",
    "# YOUR CODE HERE\n",
    "combined_with_bjorn_portfolio_returns.rolling(window=21).std().plot()\n",
    "#my portfolio returns column is titled \"0\" and I'm fine with it"
   ]
  },
  {
   "cell_type": "code",
   "execution_count": 279,
   "metadata": {},
   "outputs": [
    {
     "name": "stdout",
     "output_type": "stream",
     "text": [
      "SOROS FUND MANAGEMENT LLC               NaN\n",
      "PAULSON & CO.INC.                       NaN\n",
      "TIGER GLOBAL MANAGEMENT LLC             NaN\n",
      "BERKSHIRE HATHAWAY INC                  NaN\n",
      "Algo 1                           182.748499\n",
      "Algo 2                         22953.649806\n",
      "S&P 500                          674.146839\n",
      "0                                  0.214299\n",
      "dtype: float64\n"
     ]
    }
   ],
   "source": [
    "Annualized_Standard_Deviation_02 = np.std(combined_with_bjorn_portfolio_returns)*15.8113\n",
    "print(Annualized_Standard_Deviation_02)"
   ]
  },
  {
   "cell_type": "code",
   "execution_count": 282,
   "metadata": {},
   "outputs": [
    {
     "data": {
      "text/plain": [
       "0.5250421819759019"
      ]
     },
     "execution_count": 282,
     "metadata": {},
     "output_type": "execute_result"
    }
   ],
   "source": [
    "# Annualized Sharpe Ratios\n",
    "# YOUR CODE HERE\n",
    "Sharpe_Ratio_02 = Annualized_Standard_Deviation_02.mean() / Annualized_Standard_Deviation_02.std()\n",
    "Sharpe_Ratio_02\n",
    "#This should return eight values mirroring the abvoe table; not sure why it's just one . . ."
   ]
  },
  {
   "cell_type": "code",
   "execution_count": 283,
   "metadata": {},
   "outputs": [
    {
     "ename": "AttributeError",
     "evalue": "'float' object has no attribute 'plot'",
     "output_type": "error",
     "traceback": [
      "\u001b[1;31m---------------------------------------------------------------------------\u001b[0m",
      "\u001b[1;31mAttributeError\u001b[0m                            Traceback (most recent call last)",
      "\u001b[1;32m<ipython-input-283-6ffcb703b2e9>\u001b[0m in \u001b[0;36m<module>\u001b[1;34m\u001b[0m\n\u001b[0;32m      1\u001b[0m \u001b[1;31m# Visualize the sharpe ratios as a bar plot\u001b[0m\u001b[1;33m\u001b[0m\u001b[1;33m\u001b[0m\u001b[1;33m\u001b[0m\u001b[0m\n\u001b[0;32m      2\u001b[0m \u001b[1;31m# YOUR CODE HERE\u001b[0m\u001b[1;33m\u001b[0m\u001b[1;33m\u001b[0m\u001b[1;33m\u001b[0m\u001b[0m\n\u001b[1;32m----> 3\u001b[1;33m \u001b[0mSharpe_Ratio_02\u001b[0m\u001b[1;33m.\u001b[0m\u001b[0mplot\u001b[0m\u001b[1;33m(\u001b[0m\u001b[1;33m)\u001b[0m\u001b[1;33m\u001b[0m\u001b[1;33m\u001b[0m\u001b[0m\n\u001b[0m",
      "\u001b[1;31mAttributeError\u001b[0m: 'float' object has no attribute 'plot'"
     ]
    }
   ],
   "source": [
    "# Visualize the sharpe ratios as a bar plot\n",
    "# YOUR CODE HERE\n",
    "Sharpe_Ratio_02.plot(kind = 'bar')\n",
    "#this won't work as it's just one number. code should be correct"
   ]
  },
  {
   "cell_type": "code",
   "execution_count": 284,
   "metadata": {},
   "outputs": [
    {
     "data": {
      "text/html": [
       "<div>\n",
       "<style scoped>\n",
       "    .dataframe tbody tr th:only-of-type {\n",
       "        vertical-align: middle;\n",
       "    }\n",
       "\n",
       "    .dataframe tbody tr th {\n",
       "        vertical-align: top;\n",
       "    }\n",
       "\n",
       "    .dataframe thead th {\n",
       "        text-align: right;\n",
       "    }\n",
       "</style>\n",
       "<table border=\"1\" class=\"dataframe\">\n",
       "  <thead>\n",
       "    <tr style=\"text-align: right;\">\n",
       "      <th></th>\n",
       "      <th>SOROS FUND MANAGEMENT LLC</th>\n",
       "      <th>PAULSON &amp; CO.INC.</th>\n",
       "      <th>TIGER GLOBAL MANAGEMENT LLC</th>\n",
       "      <th>BERKSHIRE HATHAWAY INC</th>\n",
       "      <th>Algo 1</th>\n",
       "      <th>Algo 2</th>\n",
       "      <th>S&amp;P 500</th>\n",
       "      <th>0</th>\n",
       "    </tr>\n",
       "  </thead>\n",
       "  <tbody>\n",
       "    <tr>\n",
       "      <th>SOROS FUND MANAGEMENT LLC</th>\n",
       "      <td>1.000000</td>\n",
       "      <td>-0.036452</td>\n",
       "      <td>0.115727</td>\n",
       "      <td>-0.011620</td>\n",
       "      <td>-0.003815</td>\n",
       "      <td>-0.020985</td>\n",
       "      <td>0.000608</td>\n",
       "      <td>-0.014544</td>\n",
       "    </tr>\n",
       "    <tr>\n",
       "      <th>PAULSON &amp; CO.INC.</th>\n",
       "      <td>-0.036452</td>\n",
       "      <td>1.000000</td>\n",
       "      <td>0.052009</td>\n",
       "      <td>0.090907</td>\n",
       "      <td>-0.017074</td>\n",
       "      <td>0.087504</td>\n",
       "      <td>-0.004285</td>\n",
       "      <td>0.016083</td>\n",
       "    </tr>\n",
       "    <tr>\n",
       "      <th>TIGER GLOBAL MANAGEMENT LLC</th>\n",
       "      <td>0.115727</td>\n",
       "      <td>0.052009</td>\n",
       "      <td>1.000000</td>\n",
       "      <td>-0.026707</td>\n",
       "      <td>-0.088995</td>\n",
       "      <td>0.013452</td>\n",
       "      <td>-0.017369</td>\n",
       "      <td>0.124645</td>\n",
       "    </tr>\n",
       "    <tr>\n",
       "      <th>BERKSHIRE HATHAWAY INC</th>\n",
       "      <td>-0.011620</td>\n",
       "      <td>0.090907</td>\n",
       "      <td>-0.026707</td>\n",
       "      <td>1.000000</td>\n",
       "      <td>0.016494</td>\n",
       "      <td>0.153353</td>\n",
       "      <td>0.008575</td>\n",
       "      <td>-0.055958</td>\n",
       "    </tr>\n",
       "    <tr>\n",
       "      <th>Algo 1</th>\n",
       "      <td>-0.003815</td>\n",
       "      <td>-0.017074</td>\n",
       "      <td>-0.088995</td>\n",
       "      <td>0.016494</td>\n",
       "      <td>1.000000</td>\n",
       "      <td>-0.001020</td>\n",
       "      <td>0.001908</td>\n",
       "      <td>0.000139</td>\n",
       "    </tr>\n",
       "    <tr>\n",
       "      <th>Algo 2</th>\n",
       "      <td>-0.020985</td>\n",
       "      <td>0.087504</td>\n",
       "      <td>0.013452</td>\n",
       "      <td>0.153353</td>\n",
       "      <td>-0.001020</td>\n",
       "      <td>1.000000</td>\n",
       "      <td>0.002136</td>\n",
       "      <td>-0.094392</td>\n",
       "    </tr>\n",
       "    <tr>\n",
       "      <th>S&amp;P 500</th>\n",
       "      <td>0.000608</td>\n",
       "      <td>-0.004285</td>\n",
       "      <td>-0.017369</td>\n",
       "      <td>0.008575</td>\n",
       "      <td>0.001908</td>\n",
       "      <td>0.002136</td>\n",
       "      <td>1.000000</td>\n",
       "      <td>0.079722</td>\n",
       "    </tr>\n",
       "    <tr>\n",
       "      <th>0</th>\n",
       "      <td>-0.014544</td>\n",
       "      <td>0.016083</td>\n",
       "      <td>0.124645</td>\n",
       "      <td>-0.055958</td>\n",
       "      <td>0.000139</td>\n",
       "      <td>-0.094392</td>\n",
       "      <td>0.079722</td>\n",
       "      <td>1.000000</td>\n",
       "    </tr>\n",
       "  </tbody>\n",
       "</table>\n",
       "</div>"
      ],
      "text/plain": [
       "                             SOROS FUND MANAGEMENT LLC  PAULSON & CO.INC.   \\\n",
       "SOROS FUND MANAGEMENT LLC                     1.000000           -0.036452   \n",
       "PAULSON & CO.INC.                            -0.036452            1.000000   \n",
       "TIGER GLOBAL MANAGEMENT LLC                   0.115727            0.052009   \n",
       "BERKSHIRE HATHAWAY INC                       -0.011620            0.090907   \n",
       "Algo 1                                       -0.003815           -0.017074   \n",
       "Algo 2                                       -0.020985            0.087504   \n",
       "S&P 500                                       0.000608           -0.004285   \n",
       "0                                            -0.014544            0.016083   \n",
       "\n",
       "                             TIGER GLOBAL MANAGEMENT LLC  \\\n",
       "SOROS FUND MANAGEMENT LLC                       0.115727   \n",
       "PAULSON & CO.INC.                               0.052009   \n",
       "TIGER GLOBAL MANAGEMENT LLC                     1.000000   \n",
       "BERKSHIRE HATHAWAY INC                         -0.026707   \n",
       "Algo 1                                         -0.088995   \n",
       "Algo 2                                          0.013452   \n",
       "S&P 500                                        -0.017369   \n",
       "0                                               0.124645   \n",
       "\n",
       "                             BERKSHIRE HATHAWAY INC    Algo 1    Algo 2  \\\n",
       "SOROS FUND MANAGEMENT LLC                 -0.011620 -0.003815 -0.020985   \n",
       "PAULSON & CO.INC.                          0.090907 -0.017074  0.087504   \n",
       "TIGER GLOBAL MANAGEMENT LLC               -0.026707 -0.088995  0.013452   \n",
       "BERKSHIRE HATHAWAY INC                     1.000000  0.016494  0.153353   \n",
       "Algo 1                                     0.016494  1.000000 -0.001020   \n",
       "Algo 2                                     0.153353 -0.001020  1.000000   \n",
       "S&P 500                                    0.008575  0.001908  0.002136   \n",
       "0                                         -0.055958  0.000139 -0.094392   \n",
       "\n",
       "                              S&P 500         0  \n",
       "SOROS FUND MANAGEMENT LLC    0.000608 -0.014544  \n",
       "PAULSON & CO.INC.           -0.004285  0.016083  \n",
       "TIGER GLOBAL MANAGEMENT LLC -0.017369  0.124645  \n",
       "BERKSHIRE HATHAWAY INC       0.008575 -0.055958  \n",
       "Algo 1                       0.001908  0.000139  \n",
       "Algo 2                       0.002136 -0.094392  \n",
       "S&P 500                      1.000000  0.079722  \n",
       "0                            0.079722  1.000000  "
      ]
     },
     "execution_count": 284,
     "metadata": {},
     "output_type": "execute_result"
    }
   ],
   "source": [
    "# Create a correlation analysis\n",
    "# YOUR CODE HERE\n",
    "price_correlation_02 = combined_with_bjorn_portfolio_returns.corr()\n",
    "price_correlation_02"
   ]
  },
  {
   "cell_type": "code",
   "execution_count": 285,
   "metadata": {},
   "outputs": [
    {
     "ename": "KeyError",
     "evalue": "'0'",
     "output_type": "error",
     "traceback": [
      "\u001b[1;31m---------------------------------------------------------------------------\u001b[0m",
      "\u001b[1;31mKeyError\u001b[0m                                  Traceback (most recent call last)",
      "\u001b[1;32m~\\anaconda3\\lib\\site-packages\\pandas\\core\\indexes\\base.py\u001b[0m in \u001b[0;36mget_loc\u001b[1;34m(self, key, method, tolerance)\u001b[0m\n\u001b[0;32m   2645\u001b[0m             \u001b[1;32mtry\u001b[0m\u001b[1;33m:\u001b[0m\u001b[1;33m\u001b[0m\u001b[1;33m\u001b[0m\u001b[0m\n\u001b[1;32m-> 2646\u001b[1;33m                 \u001b[1;32mreturn\u001b[0m \u001b[0mself\u001b[0m\u001b[1;33m.\u001b[0m\u001b[0m_engine\u001b[0m\u001b[1;33m.\u001b[0m\u001b[0mget_loc\u001b[0m\u001b[1;33m(\u001b[0m\u001b[0mkey\u001b[0m\u001b[1;33m)\u001b[0m\u001b[1;33m\u001b[0m\u001b[1;33m\u001b[0m\u001b[0m\n\u001b[0m\u001b[0;32m   2647\u001b[0m             \u001b[1;32mexcept\u001b[0m \u001b[0mKeyError\u001b[0m\u001b[1;33m:\u001b[0m\u001b[1;33m\u001b[0m\u001b[1;33m\u001b[0m\u001b[0m\n",
      "\u001b[1;32mpandas\\_libs\\index.pyx\u001b[0m in \u001b[0;36mpandas._libs.index.IndexEngine.get_loc\u001b[1;34m()\u001b[0m\n",
      "\u001b[1;32mpandas\\_libs\\index.pyx\u001b[0m in \u001b[0;36mpandas._libs.index.IndexEngine.get_loc\u001b[1;34m()\u001b[0m\n",
      "\u001b[1;32mpandas\\_libs\\hashtable_class_helper.pxi\u001b[0m in \u001b[0;36mpandas._libs.hashtable.PyObjectHashTable.get_item\u001b[1;34m()\u001b[0m\n",
      "\u001b[1;32mpandas\\_libs\\hashtable_class_helper.pxi\u001b[0m in \u001b[0;36mpandas._libs.hashtable.PyObjectHashTable.get_item\u001b[1;34m()\u001b[0m\n",
      "\u001b[1;31mKeyError\u001b[0m: '0'",
      "\nDuring handling of the above exception, another exception occurred:\n",
      "\u001b[1;31mKeyError\u001b[0m                                  Traceback (most recent call last)",
      "\u001b[1;32m<ipython-input-285-564e75ba5521>\u001b[0m in \u001b[0;36m<module>\u001b[1;34m\u001b[0m\n\u001b[0;32m      1\u001b[0m \u001b[1;31m# Beta\u001b[0m\u001b[1;33m\u001b[0m\u001b[1;33m\u001b[0m\u001b[1;33m\u001b[0m\u001b[0m\n\u001b[0;32m      2\u001b[0m \u001b[1;31m# YOUR CODE HERE\u001b[0m\u001b[1;33m\u001b[0m\u001b[1;33m\u001b[0m\u001b[1;33m\u001b[0m\u001b[0m\n\u001b[1;32m----> 3\u001b[1;33m \u001b[0mcovariance_02\u001b[0m \u001b[1;33m=\u001b[0m \u001b[0mcombined_with_bjorn_portfolio_returns\u001b[0m\u001b[1;33m[\u001b[0m\u001b[1;34m'0'\u001b[0m\u001b[1;33m]\u001b[0m\u001b[1;33m.\u001b[0m\u001b[0mcov\u001b[0m\u001b[1;33m(\u001b[0m\u001b[0mcombined_with_bjorn_portfolio_returns\u001b[0m\u001b[1;33m[\u001b[0m\u001b[1;34m'S&P 500'\u001b[0m\u001b[1;33m]\u001b[0m\u001b[1;33m)\u001b[0m\u001b[1;33m\u001b[0m\u001b[1;33m\u001b[0m\u001b[0m\n\u001b[0m\u001b[0;32m      4\u001b[0m \u001b[0mprint\u001b[0m\u001b[1;33m(\u001b[0m\u001b[0mcovariance_02\u001b[0m\u001b[1;33m)\u001b[0m\u001b[1;33m\u001b[0m\u001b[1;33m\u001b[0m\u001b[0m\n\u001b[0;32m      5\u001b[0m \u001b[0mvariance_02\u001b[0m \u001b[1;33m=\u001b[0m \u001b[0mcombined_with_bjorn_portfolio_returns\u001b[0m\u001b[1;33m[\u001b[0m\u001b[1;34m'0'\u001b[0m\u001b[1;33m]\u001b[0m\u001b[1;33m.\u001b[0m\u001b[0mvar\u001b[0m\u001b[1;33m(\u001b[0m\u001b[1;33m)\u001b[0m\u001b[1;33m\u001b[0m\u001b[1;33m\u001b[0m\u001b[0m\n",
      "\u001b[1;32m~\\anaconda3\\lib\\site-packages\\pandas\\core\\frame.py\u001b[0m in \u001b[0;36m__getitem__\u001b[1;34m(self, key)\u001b[0m\n\u001b[0;32m   2798\u001b[0m             \u001b[1;32mif\u001b[0m \u001b[0mself\u001b[0m\u001b[1;33m.\u001b[0m\u001b[0mcolumns\u001b[0m\u001b[1;33m.\u001b[0m\u001b[0mnlevels\u001b[0m \u001b[1;33m>\u001b[0m \u001b[1;36m1\u001b[0m\u001b[1;33m:\u001b[0m\u001b[1;33m\u001b[0m\u001b[1;33m\u001b[0m\u001b[0m\n\u001b[0;32m   2799\u001b[0m                 \u001b[1;32mreturn\u001b[0m \u001b[0mself\u001b[0m\u001b[1;33m.\u001b[0m\u001b[0m_getitem_multilevel\u001b[0m\u001b[1;33m(\u001b[0m\u001b[0mkey\u001b[0m\u001b[1;33m)\u001b[0m\u001b[1;33m\u001b[0m\u001b[1;33m\u001b[0m\u001b[0m\n\u001b[1;32m-> 2800\u001b[1;33m             \u001b[0mindexer\u001b[0m \u001b[1;33m=\u001b[0m \u001b[0mself\u001b[0m\u001b[1;33m.\u001b[0m\u001b[0mcolumns\u001b[0m\u001b[1;33m.\u001b[0m\u001b[0mget_loc\u001b[0m\u001b[1;33m(\u001b[0m\u001b[0mkey\u001b[0m\u001b[1;33m)\u001b[0m\u001b[1;33m\u001b[0m\u001b[1;33m\u001b[0m\u001b[0m\n\u001b[0m\u001b[0;32m   2801\u001b[0m             \u001b[1;32mif\u001b[0m \u001b[0mis_integer\u001b[0m\u001b[1;33m(\u001b[0m\u001b[0mindexer\u001b[0m\u001b[1;33m)\u001b[0m\u001b[1;33m:\u001b[0m\u001b[1;33m\u001b[0m\u001b[1;33m\u001b[0m\u001b[0m\n\u001b[0;32m   2802\u001b[0m                 \u001b[0mindexer\u001b[0m \u001b[1;33m=\u001b[0m \u001b[1;33m[\u001b[0m\u001b[0mindexer\u001b[0m\u001b[1;33m]\u001b[0m\u001b[1;33m\u001b[0m\u001b[1;33m\u001b[0m\u001b[0m\n",
      "\u001b[1;32m~\\anaconda3\\lib\\site-packages\\pandas\\core\\indexes\\base.py\u001b[0m in \u001b[0;36mget_loc\u001b[1;34m(self, key, method, tolerance)\u001b[0m\n\u001b[0;32m   2646\u001b[0m                 \u001b[1;32mreturn\u001b[0m \u001b[0mself\u001b[0m\u001b[1;33m.\u001b[0m\u001b[0m_engine\u001b[0m\u001b[1;33m.\u001b[0m\u001b[0mget_loc\u001b[0m\u001b[1;33m(\u001b[0m\u001b[0mkey\u001b[0m\u001b[1;33m)\u001b[0m\u001b[1;33m\u001b[0m\u001b[1;33m\u001b[0m\u001b[0m\n\u001b[0;32m   2647\u001b[0m             \u001b[1;32mexcept\u001b[0m \u001b[0mKeyError\u001b[0m\u001b[1;33m:\u001b[0m\u001b[1;33m\u001b[0m\u001b[1;33m\u001b[0m\u001b[0m\n\u001b[1;32m-> 2648\u001b[1;33m                 \u001b[1;32mreturn\u001b[0m \u001b[0mself\u001b[0m\u001b[1;33m.\u001b[0m\u001b[0m_engine\u001b[0m\u001b[1;33m.\u001b[0m\u001b[0mget_loc\u001b[0m\u001b[1;33m(\u001b[0m\u001b[0mself\u001b[0m\u001b[1;33m.\u001b[0m\u001b[0m_maybe_cast_indexer\u001b[0m\u001b[1;33m(\u001b[0m\u001b[0mkey\u001b[0m\u001b[1;33m)\u001b[0m\u001b[1;33m)\u001b[0m\u001b[1;33m\u001b[0m\u001b[1;33m\u001b[0m\u001b[0m\n\u001b[0m\u001b[0;32m   2649\u001b[0m         \u001b[0mindexer\u001b[0m \u001b[1;33m=\u001b[0m \u001b[0mself\u001b[0m\u001b[1;33m.\u001b[0m\u001b[0mget_indexer\u001b[0m\u001b[1;33m(\u001b[0m\u001b[1;33m[\u001b[0m\u001b[0mkey\u001b[0m\u001b[1;33m]\u001b[0m\u001b[1;33m,\u001b[0m \u001b[0mmethod\u001b[0m\u001b[1;33m=\u001b[0m\u001b[0mmethod\u001b[0m\u001b[1;33m,\u001b[0m \u001b[0mtolerance\u001b[0m\u001b[1;33m=\u001b[0m\u001b[0mtolerance\u001b[0m\u001b[1;33m)\u001b[0m\u001b[1;33m\u001b[0m\u001b[1;33m\u001b[0m\u001b[0m\n\u001b[0;32m   2650\u001b[0m         \u001b[1;32mif\u001b[0m \u001b[0mindexer\u001b[0m\u001b[1;33m.\u001b[0m\u001b[0mndim\u001b[0m \u001b[1;33m>\u001b[0m \u001b[1;36m1\u001b[0m \u001b[1;32mor\u001b[0m \u001b[0mindexer\u001b[0m\u001b[1;33m.\u001b[0m\u001b[0msize\u001b[0m \u001b[1;33m>\u001b[0m \u001b[1;36m1\u001b[0m\u001b[1;33m:\u001b[0m\u001b[1;33m\u001b[0m\u001b[1;33m\u001b[0m\u001b[0m\n",
      "\u001b[1;32mpandas\\_libs\\index.pyx\u001b[0m in \u001b[0;36mpandas._libs.index.IndexEngine.get_loc\u001b[1;34m()\u001b[0m\n",
      "\u001b[1;32mpandas\\_libs\\index.pyx\u001b[0m in \u001b[0;36mpandas._libs.index.IndexEngine.get_loc\u001b[1;34m()\u001b[0m\n",
      "\u001b[1;32mpandas\\_libs\\hashtable_class_helper.pxi\u001b[0m in \u001b[0;36mpandas._libs.hashtable.PyObjectHashTable.get_item\u001b[1;34m()\u001b[0m\n",
      "\u001b[1;32mpandas\\_libs\\hashtable_class_helper.pxi\u001b[0m in \u001b[0;36mpandas._libs.hashtable.PyObjectHashTable.get_item\u001b[1;34m()\u001b[0m\n",
      "\u001b[1;31mKeyError\u001b[0m: '0'"
     ]
    }
   ],
   "source": [
    "# Beta\n",
    "# YOUR CODE HERE\n",
    "covariance_02 = combined_with_bjorn_portfolio_returns['0'].cov(combined_with_bjorn_portfolio_returns['S&P 500'])\n",
    "print(covariance_02)\n",
    "variance_02 = combined_with_bjorn_portfolio_returns['0'].var()\n",
    "print(variance_02)\n",
    "bjorn_beta = covariance_02 / variance_02\n",
    "print(bjorn_beta)\n",
    "#This should work too. Calling it a night. -Bjorn"
   ]
  },
  {
   "cell_type": "code",
   "execution_count": null,
   "metadata": {},
   "outputs": [],
   "source": []
  }
 ],
 "metadata": {
  "file_extension": ".py",
  "kernelspec": {
   "display_name": "Python 3",
   "language": "python",
   "name": "python3"
  },
  "language_info": {
   "codemirror_mode": {
    "name": "ipython",
    "version": 3
   },
   "file_extension": ".py",
   "mimetype": "text/x-python",
   "name": "python",
   "nbconvert_exporter": "python",
   "pygments_lexer": "ipython3",
   "version": "3.8.3"
  },
  "mimetype": "text/x-python",
  "name": "python",
  "npconvert_exporter": "python",
  "pygments_lexer": "ipython3",
  "version": 3
 },
 "nbformat": 4,
 "nbformat_minor": 4
}
